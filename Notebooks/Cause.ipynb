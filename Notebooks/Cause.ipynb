{
 "metadata": {
  "language_info": {
   "codemirror_mode": {
    "name": "ipython",
    "version": 3
   },
   "file_extension": ".py",
   "mimetype": "text/x-python",
   "name": "python",
   "nbconvert_exporter": "python",
   "pygments_lexer": "ipython3",
   "version": "3.7.9"
  },
  "orig_nbformat": 4,
  "kernelspec": {
   "name": "python3",
   "display_name": "Python 3.7.9 64-bit"
  },
  "interpreter": {
   "hash": "7f8c79caef6f500d10f1d53b5233fd35aa3fbbd3a39d10048919692e9c705d27"
  }
 },
 "nbformat": 4,
 "nbformat_minor": 2,
 "cells": [
  {
   "cell_type": "code",
   "execution_count": 1,
   "metadata": {},
   "outputs": [],
   "source": [
    "import pandas as pd\n",
    "import numpy as np\n",
    "from keras.models import Sequential\n",
    "from keras.layers import Dense"
   ]
  },
  {
   "cell_type": "code",
   "execution_count": 2,
   "metadata": {},
   "outputs": [
    {
     "output_type": "execute_result",
     "data": {
      "text/plain": [
       "   Unnamed: 0  Unnamed: 0.1 fire_name  fire_size fire_size_class  \\\n",
       "0           0             0       NaN       10.0               C   \n",
       "1           1             1       NaN        3.0               B   \n",
       "2           2             2       NaN       60.0               C   \n",
       "3           3             3    WNA  1        1.0               B   \n",
       "4           4             4       NaN        2.0               B   \n",
       "\n",
       "    stat_cause_descr   latitude   longitude state disc_clean_date  ...  \\\n",
       "0  Missing/Undefined  18.105072  -66.753044    PR       2/11/2007  ...   \n",
       "1              Arson  35.038330  -87.610000    TN      12/11/2006  ...   \n",
       "2              Arson  34.947800  -88.722500    MS       2/29/2004  ...   \n",
       "3     Debris Burning  39.641400 -119.308300    NV        6/6/2005  ...   \n",
       "4      Miscellaneous  30.700600  -90.591400    LA       9/22/1999  ...   \n",
       "\n",
       "  Wind_cont Hum_pre_30 Hum_pre_15  Hum_pre_7   Hum_cont Prec_pre_30  \\\n",
       "0  3.250413  78.216590  76.793750  76.381579  78.724370         0.0   \n",
       "1  2.122320  70.840000  65.858911  55.505882  81.682678        59.8   \n",
       "2  3.369050  75.531629  75.868613  76.812834  65.063800       168.8   \n",
       "3  0.000000  44.778429  37.140811  35.353846   0.000000        10.4   \n",
       "4 -1.000000  -1.000000  -1.000000  -1.000000  -1.000000        -1.0   \n",
       "\n",
       "   Prec_pre_15 Prec_pre_7 Prec_cont  remoteness  \n",
       "0          0.0        0.0       0.0    0.017923  \n",
       "1          8.4        0.0      86.8    0.184355  \n",
       "2         42.2       18.1     124.5    0.194544  \n",
       "3          7.2        0.0       0.0    0.487447  \n",
       "4         -1.0       -1.0      -1.0    0.214633  \n",
       "\n",
       "[5 rows x 43 columns]"
      ],
      "text/html": "<div>\n<style scoped>\n    .dataframe tbody tr th:only-of-type {\n        vertical-align: middle;\n    }\n\n    .dataframe tbody tr th {\n        vertical-align: top;\n    }\n\n    .dataframe thead th {\n        text-align: right;\n    }\n</style>\n<table border=\"1\" class=\"dataframe\">\n  <thead>\n    <tr style=\"text-align: right;\">\n      <th></th>\n      <th>Unnamed: 0</th>\n      <th>Unnamed: 0.1</th>\n      <th>fire_name</th>\n      <th>fire_size</th>\n      <th>fire_size_class</th>\n      <th>stat_cause_descr</th>\n      <th>latitude</th>\n      <th>longitude</th>\n      <th>state</th>\n      <th>disc_clean_date</th>\n      <th>...</th>\n      <th>Wind_cont</th>\n      <th>Hum_pre_30</th>\n      <th>Hum_pre_15</th>\n      <th>Hum_pre_7</th>\n      <th>Hum_cont</th>\n      <th>Prec_pre_30</th>\n      <th>Prec_pre_15</th>\n      <th>Prec_pre_7</th>\n      <th>Prec_cont</th>\n      <th>remoteness</th>\n    </tr>\n  </thead>\n  <tbody>\n    <tr>\n      <th>0</th>\n      <td>0</td>\n      <td>0</td>\n      <td>NaN</td>\n      <td>10.0</td>\n      <td>C</td>\n      <td>Missing/Undefined</td>\n      <td>18.105072</td>\n      <td>-66.753044</td>\n      <td>PR</td>\n      <td>2/11/2007</td>\n      <td>...</td>\n      <td>3.250413</td>\n      <td>78.216590</td>\n      <td>76.793750</td>\n      <td>76.381579</td>\n      <td>78.724370</td>\n      <td>0.0</td>\n      <td>0.0</td>\n      <td>0.0</td>\n      <td>0.0</td>\n      <td>0.017923</td>\n    </tr>\n    <tr>\n      <th>1</th>\n      <td>1</td>\n      <td>1</td>\n      <td>NaN</td>\n      <td>3.0</td>\n      <td>B</td>\n      <td>Arson</td>\n      <td>35.038330</td>\n      <td>-87.610000</td>\n      <td>TN</td>\n      <td>12/11/2006</td>\n      <td>...</td>\n      <td>2.122320</td>\n      <td>70.840000</td>\n      <td>65.858911</td>\n      <td>55.505882</td>\n      <td>81.682678</td>\n      <td>59.8</td>\n      <td>8.4</td>\n      <td>0.0</td>\n      <td>86.8</td>\n      <td>0.184355</td>\n    </tr>\n    <tr>\n      <th>2</th>\n      <td>2</td>\n      <td>2</td>\n      <td>NaN</td>\n      <td>60.0</td>\n      <td>C</td>\n      <td>Arson</td>\n      <td>34.947800</td>\n      <td>-88.722500</td>\n      <td>MS</td>\n      <td>2/29/2004</td>\n      <td>...</td>\n      <td>3.369050</td>\n      <td>75.531629</td>\n      <td>75.868613</td>\n      <td>76.812834</td>\n      <td>65.063800</td>\n      <td>168.8</td>\n      <td>42.2</td>\n      <td>18.1</td>\n      <td>124.5</td>\n      <td>0.194544</td>\n    </tr>\n    <tr>\n      <th>3</th>\n      <td>3</td>\n      <td>3</td>\n      <td>WNA  1</td>\n      <td>1.0</td>\n      <td>B</td>\n      <td>Debris Burning</td>\n      <td>39.641400</td>\n      <td>-119.308300</td>\n      <td>NV</td>\n      <td>6/6/2005</td>\n      <td>...</td>\n      <td>0.000000</td>\n      <td>44.778429</td>\n      <td>37.140811</td>\n      <td>35.353846</td>\n      <td>0.000000</td>\n      <td>10.4</td>\n      <td>7.2</td>\n      <td>0.0</td>\n      <td>0.0</td>\n      <td>0.487447</td>\n    </tr>\n    <tr>\n      <th>4</th>\n      <td>4</td>\n      <td>4</td>\n      <td>NaN</td>\n      <td>2.0</td>\n      <td>B</td>\n      <td>Miscellaneous</td>\n      <td>30.700600</td>\n      <td>-90.591400</td>\n      <td>LA</td>\n      <td>9/22/1999</td>\n      <td>...</td>\n      <td>-1.000000</td>\n      <td>-1.000000</td>\n      <td>-1.000000</td>\n      <td>-1.000000</td>\n      <td>-1.000000</td>\n      <td>-1.0</td>\n      <td>-1.0</td>\n      <td>-1.0</td>\n      <td>-1.0</td>\n      <td>0.214633</td>\n    </tr>\n  </tbody>\n</table>\n<p>5 rows × 43 columns</p>\n</div>"
     },
     "metadata": {},
     "execution_count": 2
    }
   ],
   "source": [
    "data = pd.read_csv('../data/WildfireData.csv')\n",
    "data.head()"
   ]
  },
  {
   "cell_type": "code",
   "execution_count": 3,
   "metadata": {},
   "outputs": [
    {
     "output_type": "execute_result",
     "data": {
      "text/plain": [
       "   fire_size  remoteness                putout_time   stat_cause_descr\n",
       "0       10.0    0.017923                        NaN  Missing/Undefined\n",
       "1        3.0    0.184355                        NaN              Arson\n",
       "2       60.0    0.194544                        NaN              Arson\n",
       "3        1.0    0.487447  0 days 00:00:00.000000000     Debris Burning\n",
       "4        2.0    0.214633                        NaN      Miscellaneous"
      ],
      "text/html": "<div>\n<style scoped>\n    .dataframe tbody tr th:only-of-type {\n        vertical-align: middle;\n    }\n\n    .dataframe tbody tr th {\n        vertical-align: top;\n    }\n\n    .dataframe thead th {\n        text-align: right;\n    }\n</style>\n<table border=\"1\" class=\"dataframe\">\n  <thead>\n    <tr style=\"text-align: right;\">\n      <th></th>\n      <th>fire_size</th>\n      <th>remoteness</th>\n      <th>putout_time</th>\n      <th>stat_cause_descr</th>\n    </tr>\n  </thead>\n  <tbody>\n    <tr>\n      <th>0</th>\n      <td>10.0</td>\n      <td>0.017923</td>\n      <td>NaN</td>\n      <td>Missing/Undefined</td>\n    </tr>\n    <tr>\n      <th>1</th>\n      <td>3.0</td>\n      <td>0.184355</td>\n      <td>NaN</td>\n      <td>Arson</td>\n    </tr>\n    <tr>\n      <th>2</th>\n      <td>60.0</td>\n      <td>0.194544</td>\n      <td>NaN</td>\n      <td>Arson</td>\n    </tr>\n    <tr>\n      <th>3</th>\n      <td>1.0</td>\n      <td>0.487447</td>\n      <td>0 days 00:00:00.000000000</td>\n      <td>Debris Burning</td>\n    </tr>\n    <tr>\n      <th>4</th>\n      <td>2.0</td>\n      <td>0.214633</td>\n      <td>NaN</td>\n      <td>Miscellaneous</td>\n    </tr>\n  </tbody>\n</table>\n</div>"
     },
     "metadata": {},
     "execution_count": 3
    }
   ],
   "source": [
    "data = data[['fire_size', 'remoteness', 'putout_time', 'stat_cause_descr']]\n",
    "data.head()"
   ]
  },
  {
   "cell_type": "code",
   "execution_count": 4,
   "metadata": {},
   "outputs": [
    {
     "output_type": "execute_result",
     "data": {
      "text/plain": [
       "    fire_size  remoteness putout_time stat_cause_descr\n",
       "3         1.0    0.487447           0   Debris Burning\n",
       "11       37.0    0.191923           0            Arson\n",
       "24       40.0    0.199485           0            Arson\n",
       "26        2.0    0.227270           0   Debris Burning\n",
       "31        1.2    0.292303           0   Debris Burning"
      ],
      "text/html": "<div>\n<style scoped>\n    .dataframe tbody tr th:only-of-type {\n        vertical-align: middle;\n    }\n\n    .dataframe tbody tr th {\n        vertical-align: top;\n    }\n\n    .dataframe thead th {\n        text-align: right;\n    }\n</style>\n<table border=\"1\" class=\"dataframe\">\n  <thead>\n    <tr style=\"text-align: right;\">\n      <th></th>\n      <th>fire_size</th>\n      <th>remoteness</th>\n      <th>putout_time</th>\n      <th>stat_cause_descr</th>\n    </tr>\n  </thead>\n  <tbody>\n    <tr>\n      <th>3</th>\n      <td>1.0</td>\n      <td>0.487447</td>\n      <td>0</td>\n      <td>Debris Burning</td>\n    </tr>\n    <tr>\n      <th>11</th>\n      <td>37.0</td>\n      <td>0.191923</td>\n      <td>0</td>\n      <td>Arson</td>\n    </tr>\n    <tr>\n      <th>24</th>\n      <td>40.0</td>\n      <td>0.199485</td>\n      <td>0</td>\n      <td>Arson</td>\n    </tr>\n    <tr>\n      <th>26</th>\n      <td>2.0</td>\n      <td>0.227270</td>\n      <td>0</td>\n      <td>Debris Burning</td>\n    </tr>\n    <tr>\n      <th>31</th>\n      <td>1.2</td>\n      <td>0.292303</td>\n      <td>0</td>\n      <td>Debris Burning</td>\n    </tr>\n  </tbody>\n</table>\n</div>"
     },
     "metadata": {},
     "execution_count": 4
    }
   ],
   "source": [
    "data = data.dropna()\n",
    "data['putout_time'] = data['putout_time'].str.split(' ').str[0]\n",
    "data = data[data.stat_cause_descr != 'Miscellaneous']\n",
    "data = data[data.stat_cause_descr != 'Missing/Undefined']\n",
    "data.head()"
   ]
  },
  {
   "cell_type": "code",
   "execution_count": 5,
   "metadata": {},
   "outputs": [
    {
     "output_type": "execute_result",
     "data": {
      "text/plain": [
       "array(['Debris Burning', 'Arson', 'Lightning', 'Equipment Use',\n",
       "       'Campfire', 'Structure', 'Children', 'Smoking', 'Powerline',\n",
       "       'Railroad', 'Fireworks'], dtype=object)"
      ]
     },
     "metadata": {},
     "execution_count": 5
    }
   ],
   "source": [
    "data.stat_cause_descr.unique()"
   ]
  },
  {
   "cell_type": "code",
   "execution_count": 6,
   "metadata": {},
   "outputs": [
    {
     "output_type": "execute_result",
     "data": {
      "text/plain": [
       "    fire_size  remoteness putout_time  stat_cause_descr\n",
       "3         1.0    0.487447           0                 0\n",
       "11       37.0    0.191923           0                 1\n",
       "24       40.0    0.199485           0                 1\n",
       "26        2.0    0.227270           0                 0\n",
       "31        1.2    0.292303           0                 0"
      ],
      "text/html": "<div>\n<style scoped>\n    .dataframe tbody tr th:only-of-type {\n        vertical-align: middle;\n    }\n\n    .dataframe tbody tr th {\n        vertical-align: top;\n    }\n\n    .dataframe thead th {\n        text-align: right;\n    }\n</style>\n<table border=\"1\" class=\"dataframe\">\n  <thead>\n    <tr style=\"text-align: right;\">\n      <th></th>\n      <th>fire_size</th>\n      <th>remoteness</th>\n      <th>putout_time</th>\n      <th>stat_cause_descr</th>\n    </tr>\n  </thead>\n  <tbody>\n    <tr>\n      <th>3</th>\n      <td>1.0</td>\n      <td>0.487447</td>\n      <td>0</td>\n      <td>0</td>\n    </tr>\n    <tr>\n      <th>11</th>\n      <td>37.0</td>\n      <td>0.191923</td>\n      <td>0</td>\n      <td>1</td>\n    </tr>\n    <tr>\n      <th>24</th>\n      <td>40.0</td>\n      <td>0.199485</td>\n      <td>0</td>\n      <td>1</td>\n    </tr>\n    <tr>\n      <th>26</th>\n      <td>2.0</td>\n      <td>0.227270</td>\n      <td>0</td>\n      <td>0</td>\n    </tr>\n    <tr>\n      <th>31</th>\n      <td>1.2</td>\n      <td>0.292303</td>\n      <td>0</td>\n      <td>0</td>\n    </tr>\n  </tbody>\n</table>\n</div>"
     },
     "metadata": {},
     "execution_count": 6
    }
   ],
   "source": [
    "data['stat_cause_descr'] = data['stat_cause_descr'].map({\n",
    "    'Debris Burning': 0,\n",
    "    'Arson': 1,\n",
    "    'Lightning': 2,\n",
    "    'Equipment Use': 3,\n",
    "    'Campfire': 4,\n",
    "    'Structure': 5,\n",
    "    'Children': 5,\n",
    "    'Smoking': 5,\n",
    "    'Powerline': 5,\n",
    "    'Railroad': 5,\n",
    "    'Fireworks': 5,\n",
    "})\n",
    "data.stat_cause_descr.unique()\n",
    "data.head()"
   ]
  },
  {
   "cell_type": "code",
   "execution_count": 7,
   "metadata": {},
   "outputs": [
    {
     "output_type": "stream",
     "name": "stdout",
     "text": [
      "    fire_size  remoteness  putout_time\n3         1.0    0.487447          0.0\n11       37.0    0.191923          0.0\n24       40.0    0.199485          0.0\n26        2.0    0.227270          0.0\n31        1.2    0.292303          0.0\n3     0.0\n11    1.0\n24    1.0\n26    0.0\n31    0.0\nName: stat_cause_descr, dtype: float64\n"
     ]
    }
   ],
   "source": [
    "from sklearn.model_selection import train_test_split\n",
    "X = data.drop('stat_cause_descr', axis=1).astype('float')\n",
    "y = data.stat_cause_descr.astype('float')\n",
    "print(X.head())\n",
    "print(y.head())\n",
    "X_train, X_test, y_train, y_test = train_test_split(X, y, test_size=0.1)"
   ]
  },
  {
   "cell_type": "code",
   "execution_count": 8,
   "metadata": {},
   "outputs": [],
   "source": [
    "from tensorflow.keras.utils import to_categorical\n",
    "y_train = to_categorical(y_train)\n",
    "y_test = to_categorical(y_test)"
   ]
  },
  {
   "cell_type": "code",
   "execution_count": 9,
   "metadata": {},
   "outputs": [
    {
     "output_type": "execute_result",
     "data": {
      "text/plain": [
       "array([0., 0., 1., 0., 0., 0.], dtype=float32)"
      ]
     },
     "metadata": {},
     "execution_count": 9
    }
   ],
   "source": [
    " y_test[0]"
   ]
  },
  {
   "cell_type": "code",
   "execution_count": 12,
   "metadata": {},
   "outputs": [],
   "source": [
    "model = Sequential()\n",
    "model.add(Dense(32, input_dim=(3), activation='relu'))\n",
    "model.add(Dense(16, activation='relu'))\n",
    "model.add(Dense(8, activation='relu'))\n",
    "model.add(Dense(6, activation='softmax'))"
   ]
  },
  {
   "cell_type": "code",
   "execution_count": 26,
   "metadata": {},
   "outputs": [],
   "source": [
    "model.compile(loss='categorical_crossentropy', optimizer='adam', metrics=['accuracy'])"
   ]
  },
  {
   "cell_type": "code",
   "execution_count": 27,
   "metadata": {},
   "outputs": [
    {
     "output_type": "stream",
     "name": "stdout",
     "text": [
      "Epoch 1/100\n",
      "301/301 [==============================] - 2s 3ms/step - loss: 1.2920 - accuracy: 0.5239 - val_loss: 1.2907 - val_accuracy: 0.5075\n",
      "Epoch 2/100\n",
      "301/301 [==============================] - 1s 2ms/step - loss: 1.2813 - accuracy: 0.5316 - val_loss: 1.2963 - val_accuracy: 0.5150\n",
      "Epoch 3/100\n",
      "301/301 [==============================] - 1s 3ms/step - loss: 1.2816 - accuracy: 0.5337 - val_loss: 1.3060 - val_accuracy: 0.5037\n",
      "Epoch 4/100\n",
      "301/301 [==============================] - 0s 2ms/step - loss: 1.2948 - accuracy: 0.5264 - val_loss: 1.2823 - val_accuracy: 0.5159\n",
      "Epoch 5/100\n",
      "301/301 [==============================] - 0s 1ms/step - loss: 1.2795 - accuracy: 0.5323 - val_loss: 1.2893 - val_accuracy: 0.5084\n",
      "Epoch 6/100\n",
      "301/301 [==============================] - 1s 3ms/step - loss: 1.2961 - accuracy: 0.5298 - val_loss: 1.3245 - val_accuracy: 0.4958\n",
      "Epoch 7/100\n",
      "301/301 [==============================] - 1s 2ms/step - loss: 1.3167 - accuracy: 0.5187 - val_loss: 1.3018 - val_accuracy: 0.5065\n",
      "Epoch 8/100\n",
      "301/301 [==============================] - 0s 2ms/step - loss: 1.2938 - accuracy: 0.5199 - val_loss: 1.2853 - val_accuracy: 0.5140\n",
      "Epoch 9/100\n",
      "301/301 [==============================] - 0s 1ms/step - loss: 1.3161 - accuracy: 0.5187 - val_loss: 1.3051 - val_accuracy: 0.5000\n",
      "Epoch 10/100\n",
      "301/301 [==============================] - 0s 1ms/step - loss: 1.3007 - accuracy: 0.5118 - val_loss: 1.2972 - val_accuracy: 0.5028\n",
      "Epoch 11/100\n",
      "301/301 [==============================] - 0s 1ms/step - loss: 1.3025 - accuracy: 0.5180 - val_loss: 1.3286 - val_accuracy: 0.4935\n",
      "Epoch 12/100\n",
      "301/301 [==============================] - 0s 1ms/step - loss: 1.3217 - accuracy: 0.5145 - val_loss: 1.3181 - val_accuracy: 0.4963\n",
      "Epoch 13/100\n",
      "301/301 [==============================] - 1s 2ms/step - loss: 1.3097 - accuracy: 0.5212 - val_loss: 1.3102 - val_accuracy: 0.5005\n",
      "Epoch 14/100\n",
      "301/301 [==============================] - 1s 2ms/step - loss: 1.3066 - accuracy: 0.5185 - val_loss: 1.3055 - val_accuracy: 0.5103\n",
      "Epoch 15/100\n",
      "301/301 [==============================] - 1s 2ms/step - loss: 1.2997 - accuracy: 0.5229 - val_loss: 1.2964 - val_accuracy: 0.5065\n",
      "Epoch 16/100\n",
      "301/301 [==============================] - 1s 2ms/step - loss: 1.2995 - accuracy: 0.5231 - val_loss: 1.2952 - val_accuracy: 0.5145\n",
      "Epoch 17/100\n",
      "301/301 [==============================] - 0s 2ms/step - loss: 1.3056 - accuracy: 0.5265 - val_loss: 1.2896 - val_accuracy: 0.5117\n",
      "Epoch 18/100\n",
      "301/301 [==============================] - 1s 2ms/step - loss: 1.3033 - accuracy: 0.5204 - val_loss: 1.2992 - val_accuracy: 0.5028\n",
      "Epoch 19/100\n",
      "301/301 [==============================] - 1s 2ms/step - loss: 1.2884 - accuracy: 0.5239 - val_loss: 1.2916 - val_accuracy: 0.5126\n",
      "Epoch 20/100\n",
      "301/301 [==============================] - 0s 1ms/step - loss: 1.3059 - accuracy: 0.5220 - val_loss: 1.2903 - val_accuracy: 0.5145\n",
      "Epoch 21/100\n",
      "301/301 [==============================] - 1s 2ms/step - loss: 1.2980 - accuracy: 0.5219 - val_loss: 1.2786 - val_accuracy: 0.5168\n",
      "Epoch 22/100\n",
      "301/301 [==============================] - 1s 2ms/step - loss: 1.2896 - accuracy: 0.5295 - val_loss: 1.2922 - val_accuracy: 0.5094\n",
      "Epoch 23/100\n",
      "301/301 [==============================] - 1s 3ms/step - loss: 1.2863 - accuracy: 0.5266 - val_loss: 1.2840 - val_accuracy: 0.5122\n",
      "Epoch 24/100\n",
      "301/301 [==============================] - 1s 2ms/step - loss: 1.2809 - accuracy: 0.5306 - val_loss: 1.2801 - val_accuracy: 0.5178\n",
      "Epoch 25/100\n",
      "301/301 [==============================] - 1s 2ms/step - loss: 1.2760 - accuracy: 0.5313 - val_loss: 1.3081 - val_accuracy: 0.4916\n",
      "Epoch 26/100\n",
      "301/301 [==============================] - 1s 3ms/step - loss: 1.2959 - accuracy: 0.5138 - val_loss: 1.3006 - val_accuracy: 0.4981\n",
      "Epoch 27/100\n",
      "301/301 [==============================] - 1s 2ms/step - loss: 1.2875 - accuracy: 0.5201 - val_loss: 1.2965 - val_accuracy: 0.4977\n",
      "Epoch 28/100\n",
      "301/301 [==============================] - 1s 2ms/step - loss: 1.3000 - accuracy: 0.5184 - val_loss: 1.2942 - val_accuracy: 0.5056\n",
      "Epoch 29/100\n",
      "301/301 [==============================] - 1s 2ms/step - loss: 1.2999 - accuracy: 0.5244 - val_loss: 1.2875 - val_accuracy: 0.5080\n",
      "Epoch 30/100\n",
      "301/301 [==============================] - 1s 3ms/step - loss: 1.2778 - accuracy: 0.5269 - val_loss: 1.2879 - val_accuracy: 0.5094\n",
      "Epoch 31/100\n",
      "301/301 [==============================] - 1s 2ms/step - loss: 1.2783 - accuracy: 0.5317 - val_loss: 1.2810 - val_accuracy: 0.5094\n",
      "Epoch 32/100\n",
      "301/301 [==============================] - 1s 2ms/step - loss: 1.3398 - accuracy: 0.5205 - val_loss: 1.3018 - val_accuracy: 0.5051\n",
      "Epoch 33/100\n",
      "301/301 [==============================] - 1s 2ms/step - loss: 1.2902 - accuracy: 0.5247 - val_loss: 1.2914 - val_accuracy: 0.5089\n",
      "Epoch 34/100\n",
      "301/301 [==============================] - 1s 2ms/step - loss: 1.2810 - accuracy: 0.5279 - val_loss: 1.2887 - val_accuracy: 0.5168\n",
      "Epoch 35/100\n",
      "301/301 [==============================] - 1s 2ms/step - loss: 1.2847 - accuracy: 0.5312 - val_loss: 1.2898 - val_accuracy: 0.5098\n",
      "Epoch 36/100\n",
      "301/301 [==============================] - 0s 1ms/step - loss: 1.2873 - accuracy: 0.5299 - val_loss: 1.2868 - val_accuracy: 0.5094\n",
      "Epoch 37/100\n",
      "301/301 [==============================] - 1s 2ms/step - loss: 1.2903 - accuracy: 0.5250 - val_loss: 1.2927 - val_accuracy: 0.5098\n",
      "Epoch 38/100\n",
      "301/301 [==============================] - 1s 3ms/step - loss: 1.2866 - accuracy: 0.5316 - val_loss: 1.2825 - val_accuracy: 0.5108\n",
      "Epoch 39/100\n",
      "301/301 [==============================] - 1s 2ms/step - loss: 1.2769 - accuracy: 0.5325 - val_loss: 1.2815 - val_accuracy: 0.5178\n",
      "Epoch 40/100\n",
      "301/301 [==============================] - 1s 2ms/step - loss: 1.2860 - accuracy: 0.5319 - val_loss: 1.2818 - val_accuracy: 0.5145\n",
      "Epoch 41/100\n",
      "301/301 [==============================] - 1s 2ms/step - loss: 1.2670 - accuracy: 0.5364 - val_loss: 1.2880 - val_accuracy: 0.5126\n",
      "Epoch 42/100\n",
      "301/301 [==============================] - 1s 2ms/step - loss: 1.2854 - accuracy: 0.5296 - val_loss: 1.2852 - val_accuracy: 0.5136\n",
      "Epoch 43/100\n",
      "301/301 [==============================] - 0s 1ms/step - loss: 1.2655 - accuracy: 0.5375 - val_loss: 1.2796 - val_accuracy: 0.5150\n",
      "Epoch 44/100\n",
      "301/301 [==============================] - 1s 2ms/step - loss: 1.2858 - accuracy: 0.5265 - val_loss: 1.2780 - val_accuracy: 0.5145\n",
      "Epoch 45/100\n",
      "301/301 [==============================] - 0s 1ms/step - loss: 1.2737 - accuracy: 0.5353 - val_loss: 1.2849 - val_accuracy: 0.5108\n",
      "Epoch 46/100\n",
      "301/301 [==============================] - 0s 2ms/step - loss: 1.2971 - accuracy: 0.5256 - val_loss: 1.3117 - val_accuracy: 0.4995\n",
      "Epoch 47/100\n",
      "301/301 [==============================] - 0s 1ms/step - loss: 1.2931 - accuracy: 0.5236 - val_loss: 1.2937 - val_accuracy: 0.5094\n",
      "Epoch 48/100\n",
      "301/301 [==============================] - 0s 1ms/step - loss: 1.2883 - accuracy: 0.5269 - val_loss: 1.3477 - val_accuracy: 0.4991\n",
      "Epoch 49/100\n",
      "301/301 [==============================] - 0s 1ms/step - loss: 1.3286 - accuracy: 0.5172 - val_loss: 1.3165 - val_accuracy: 0.4981\n",
      "Epoch 50/100\n",
      "301/301 [==============================] - 0s 1ms/step - loss: 1.3061 - accuracy: 0.5229 - val_loss: 1.3054 - val_accuracy: 0.5056\n",
      "Epoch 51/100\n",
      "301/301 [==============================] - 1s 2ms/step - loss: 1.2948 - accuracy: 0.5265 - val_loss: 1.2969 - val_accuracy: 0.5122\n",
      "Epoch 52/100\n",
      "301/301 [==============================] - 0s 1ms/step - loss: 1.2968 - accuracy: 0.5225 - val_loss: 1.2924 - val_accuracy: 0.5117\n",
      "Epoch 53/100\n",
      "301/301 [==============================] - 1s 2ms/step - loss: 1.2915 - accuracy: 0.5323 - val_loss: 1.2883 - val_accuracy: 0.5140\n",
      "Epoch 54/100\n",
      "301/301 [==============================] - 0s 1ms/step - loss: 1.2985 - accuracy: 0.5259 - val_loss: 1.2844 - val_accuracy: 0.5154\n",
      "Epoch 55/100\n",
      "301/301 [==============================] - 1s 2ms/step - loss: 1.2931 - accuracy: 0.5287 - val_loss: 1.2822 - val_accuracy: 0.5243\n",
      "Epoch 56/100\n",
      "301/301 [==============================] - 0s 1ms/step - loss: 1.2857 - accuracy: 0.5296 - val_loss: 1.2952 - val_accuracy: 0.5098\n",
      "Epoch 57/100\n",
      "301/301 [==============================] - 1s 2ms/step - loss: 1.2846 - accuracy: 0.5284 - val_loss: 1.2762 - val_accuracy: 0.5182\n",
      "Epoch 58/100\n",
      "301/301 [==============================] - 0s 1ms/step - loss: 1.2920 - accuracy: 0.5243 - val_loss: 1.2855 - val_accuracy: 0.5131\n",
      "Epoch 59/100\n",
      "301/301 [==============================] - 0s 2ms/step - loss: 1.2692 - accuracy: 0.5331 - val_loss: 1.2794 - val_accuracy: 0.5178\n",
      "Epoch 60/100\n",
      "301/301 [==============================] - 1s 3ms/step - loss: 1.2691 - accuracy: 0.5394 - val_loss: 1.3403 - val_accuracy: 0.4888\n",
      "Epoch 61/100\n",
      "301/301 [==============================] - 0s 2ms/step - loss: 1.3099 - accuracy: 0.5162 - val_loss: 1.3114 - val_accuracy: 0.5075\n",
      "Epoch 62/100\n",
      "301/301 [==============================] - 0s 1ms/step - loss: 1.2954 - accuracy: 0.5229 - val_loss: 1.3030 - val_accuracy: 0.5089\n",
      "Epoch 63/100\n",
      "301/301 [==============================] - 0s 1ms/step - loss: 1.2968 - accuracy: 0.5197 - val_loss: 1.2991 - val_accuracy: 0.5061\n",
      "Epoch 64/100\n",
      "301/301 [==============================] - 0s 1ms/step - loss: 1.2936 - accuracy: 0.5252 - val_loss: 1.2992 - val_accuracy: 0.5075\n",
      "Epoch 65/100\n",
      "301/301 [==============================] - 0s 1ms/step - loss: 1.2978 - accuracy: 0.5213 - val_loss: 1.2925 - val_accuracy: 0.5117\n",
      "Epoch 66/100\n",
      "301/301 [==============================] - 0s 1ms/step - loss: 1.2848 - accuracy: 0.5270 - val_loss: 1.2881 - val_accuracy: 0.5117\n",
      "Epoch 67/100\n",
      "301/301 [==============================] - 0s 1ms/step - loss: 1.2782 - accuracy: 0.5315 - val_loss: 1.2841 - val_accuracy: 0.5117\n",
      "Epoch 68/100\n",
      "301/301 [==============================] - 0s 1ms/step - loss: 1.2764 - accuracy: 0.5302 - val_loss: 1.2813 - val_accuracy: 0.5173\n",
      "Epoch 69/100\n",
      "301/301 [==============================] - 0s 2ms/step - loss: 1.2800 - accuracy: 0.5303 - val_loss: 1.2801 - val_accuracy: 0.5098\n",
      "Epoch 70/100\n",
      "301/301 [==============================] - 0s 1ms/step - loss: 1.2871 - accuracy: 0.5293 - val_loss: 1.3103 - val_accuracy: 0.4911\n",
      "Epoch 71/100\n",
      "301/301 [==============================] - 0s 1ms/step - loss: 1.2938 - accuracy: 0.5143 - val_loss: 1.3044 - val_accuracy: 0.4925\n",
      "Epoch 72/100\n",
      "301/301 [==============================] - 0s 2ms/step - loss: 1.2974 - accuracy: 0.5144 - val_loss: 1.2928 - val_accuracy: 0.4986\n",
      "Epoch 73/100\n",
      "301/301 [==============================] - 1s 2ms/step - loss: 1.2975 - accuracy: 0.5185 - val_loss: 1.2859 - val_accuracy: 0.5173\n",
      "Epoch 74/100\n",
      "301/301 [==============================] - 1s 2ms/step - loss: 1.2763 - accuracy: 0.5243 - val_loss: 1.2852 - val_accuracy: 0.5136\n",
      "Epoch 75/100\n",
      "301/301 [==============================] - 1s 2ms/step - loss: 1.2754 - accuracy: 0.5271 - val_loss: 1.2850 - val_accuracy: 0.5098\n",
      "Epoch 76/100\n",
      "301/301 [==============================] - 1s 2ms/step - loss: 1.2786 - accuracy: 0.5309 - val_loss: 1.2851 - val_accuracy: 0.5145\n",
      "Epoch 77/100\n",
      "301/301 [==============================] - 1s 2ms/step - loss: 1.2821 - accuracy: 0.5281 - val_loss: 1.2800 - val_accuracy: 0.5173\n",
      "Epoch 78/100\n",
      "301/301 [==============================] - 1s 2ms/step - loss: 1.2689 - accuracy: 0.5366 - val_loss: 1.2814 - val_accuracy: 0.5145\n",
      "Epoch 79/100\n",
      "301/301 [==============================] - 1s 2ms/step - loss: 1.3152 - accuracy: 0.5115 - val_loss: 1.3183 - val_accuracy: 0.4953\n",
      "Epoch 80/100\n",
      "301/301 [==============================] - 0s 2ms/step - loss: 1.3123 - accuracy: 0.5161 - val_loss: 1.3057 - val_accuracy: 0.5005\n",
      "Epoch 81/100\n",
      "301/301 [==============================] - 1s 2ms/step - loss: 1.3818 - accuracy: 0.5040 - val_loss: 1.3522 - val_accuracy: 0.4846\n",
      "Epoch 82/100\n",
      "301/301 [==============================] - 1s 2ms/step - loss: 1.3332 - accuracy: 0.5069 - val_loss: 1.3408 - val_accuracy: 0.4892\n",
      "Epoch 83/100\n",
      "301/301 [==============================] - 1s 2ms/step - loss: 1.3148 - accuracy: 0.5179 - val_loss: 1.3309 - val_accuracy: 0.4906\n",
      "Epoch 84/100\n",
      "301/301 [==============================] - 1s 2ms/step - loss: 1.3158 - accuracy: 0.5133 - val_loss: 1.3297 - val_accuracy: 0.4916\n",
      "Epoch 85/100\n",
      "301/301 [==============================] - 0s 1ms/step - loss: 1.3111 - accuracy: 0.5168 - val_loss: 1.3240 - val_accuracy: 0.4939\n",
      "Epoch 86/100\n",
      "301/301 [==============================] - 0s 1ms/step - loss: 1.3106 - accuracy: 0.5182 - val_loss: 1.3202 - val_accuracy: 0.4944\n",
      "Epoch 87/100\n",
      "301/301 [==============================] - 0s 1ms/step - loss: 1.2993 - accuracy: 0.5191 - val_loss: 1.3146 - val_accuracy: 0.4986\n",
      "Epoch 88/100\n",
      "301/301 [==============================] - 1s 2ms/step - loss: 1.2968 - accuracy: 0.5205 - val_loss: 1.3103 - val_accuracy: 0.5000\n",
      "Epoch 89/100\n",
      "301/301 [==============================] - 0s 1ms/step - loss: 1.2972 - accuracy: 0.5223 - val_loss: 1.3065 - val_accuracy: 0.5037\n",
      "Epoch 90/100\n",
      "301/301 [==============================] - 0s 1ms/step - loss: 1.2966 - accuracy: 0.5219 - val_loss: 1.3010 - val_accuracy: 0.5028\n",
      "Epoch 91/100\n",
      "301/301 [==============================] - 0s 1ms/step - loss: 1.2966 - accuracy: 0.5207 - val_loss: 1.2973 - val_accuracy: 0.5033\n",
      "Epoch 92/100\n",
      "301/301 [==============================] - 1s 2ms/step - loss: 1.3277 - accuracy: 0.5232 - val_loss: 1.3172 - val_accuracy: 0.4883\n",
      "Epoch 93/100\n",
      "301/301 [==============================] - 0s 1ms/step - loss: 1.2982 - accuracy: 0.5145 - val_loss: 1.3058 - val_accuracy: 0.4949\n",
      "Epoch 94/100\n",
      "301/301 [==============================] - 1s 2ms/step - loss: 1.2924 - accuracy: 0.5204 - val_loss: 1.2906 - val_accuracy: 0.5084\n",
      "Epoch 95/100\n",
      "301/301 [==============================] - 1s 2ms/step - loss: 1.2880 - accuracy: 0.5217 - val_loss: 1.2857 - val_accuracy: 0.5084\n",
      "Epoch 96/100\n",
      "301/301 [==============================] - 1s 2ms/step - loss: 1.2897 - accuracy: 0.5289 - val_loss: 1.2880 - val_accuracy: 0.5136\n",
      "Epoch 97/100\n",
      "301/301 [==============================] - 0s 1ms/step - loss: 1.2768 - accuracy: 0.5286 - val_loss: 1.2820 - val_accuracy: 0.5084\n",
      "Epoch 98/100\n",
      "301/301 [==============================] - 0s 1ms/step - loss: 1.2757 - accuracy: 0.5333 - val_loss: 1.2816 - val_accuracy: 0.5206\n",
      "Epoch 99/100\n",
      "301/301 [==============================] - 1s 3ms/step - loss: 1.2619 - accuracy: 0.5365 - val_loss: 1.2843 - val_accuracy: 0.5131\n",
      "Epoch 100/100\n",
      "301/301 [==============================] - 1s 2ms/step - loss: 1.2823 - accuracy: 0.5348 - val_loss: 1.2801 - val_accuracy: 0.5229\n"
     ]
    },
    {
     "output_type": "execute_result",
     "data": {
      "text/plain": [
       "<keras.callbacks.History at 0x1e4dfb1e588>"
      ]
     },
     "metadata": {},
     "execution_count": 27
    }
   ],
   "source": [
    "model.fit(X_train, y_train, validation_data=(X_test, y_test), epochs=100, batch_size=64, verbose=1)"
   ]
  },
  {
   "cell_type": "code",
   "execution_count": 59,
   "metadata": {},
   "outputs": [
    {
     "output_type": "execute_result",
     "data": {
      "text/plain": [
       "   fire_size  remoteness  putout_time\n",
       "0       37.0    0.191923            0"
      ],
      "text/html": "<div>\n<style scoped>\n    .dataframe tbody tr th:only-of-type {\n        vertical-align: middle;\n    }\n\n    .dataframe tbody tr th {\n        vertical-align: top;\n    }\n\n    .dataframe thead th {\n        text-align: right;\n    }\n</style>\n<table border=\"1\" class=\"dataframe\">\n  <thead>\n    <tr style=\"text-align: right;\">\n      <th></th>\n      <th>fire_size</th>\n      <th>remoteness</th>\n      <th>putout_time</th>\n    </tr>\n  </thead>\n  <tbody>\n    <tr>\n      <th>0</th>\n      <td>37.0</td>\n      <td>0.191923</td>\n      <td>0</td>\n    </tr>\n  </tbody>\n</table>\n</div>"
     },
     "metadata": {},
     "execution_count": 59
    }
   ],
   "source": [
    "test_data = {\n",
    "    'fire_size': [37.0],\n",
    "    'remoteness': [0.191923],\n",
    "    'putout_time': [0]\t\n",
    "}\n",
    "test_data = pd.DataFrame(test_data)\n",
    "test_data"
   ]
  },
  {
   "cell_type": "code",
   "execution_count": 60,
   "metadata": {},
   "outputs": [
    {
     "output_type": "execute_result",
     "data": {
      "text/plain": [
       "array([[0.3406418 , 0.478986  , 0.03328019, 0.05444705, 0.02622963,\n",
       "        0.06641531]], dtype=float32)"
      ]
     },
     "metadata": {},
     "execution_count": 60
    }
   ],
   "source": [
    "result = model.predict(test_data)\n",
    "result"
   ]
  },
  {
   "cell_type": "code",
   "execution_count": 62,
   "metadata": {},
   "outputs": [
    {
     "output_type": "stream",
     "name": "stdout",
     "text": [
      "1\n"
     ]
    }
   ],
   "source": [
    "final = 0\n",
    "for i in range(6):\n",
    "    if (result[0][i] > final):\n",
    "        final = result[0][i]\n",
    "    # print(final)\n",
    "final = np.where(result[0] == final)\n",
    "print(final[0][0])\n",
    "    "
   ]
  }
 ]
}