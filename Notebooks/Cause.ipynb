{
 "metadata": {
  "language_info": {
   "codemirror_mode": {
    "name": "ipython",
    "version": 3
   },
   "file_extension": ".py",
   "mimetype": "text/x-python",
   "name": "python",
   "nbconvert_exporter": "python",
   "pygments_lexer": "ipython3",
   "version": "3.7.9"
  },
  "orig_nbformat": 4,
  "kernelspec": {
   "name": "python3",
   "display_name": "Python 3.7.9 64-bit"
  },
  "interpreter": {
   "hash": "7f8c79caef6f500d10f1d53b5233fd35aa3fbbd3a39d10048919692e9c705d27"
  }
 },
 "nbformat": 4,
 "nbformat_minor": 2,
 "cells": [
  {
   "cell_type": "code",
   "execution_count": 1,
   "metadata": {},
   "outputs": [],
   "source": [
    "import pandas as pd\n",
    "import numpy as np\n",
    "from keras.models import Sequential\n",
    "from keras.layers import Dense"
   ]
  },
  {
   "cell_type": "code",
   "execution_count": 2,
   "metadata": {},
   "outputs": [
    {
     "output_type": "execute_result",
     "data": {
      "text/plain": [
       "   Unnamed: 0  Unnamed: 0.1 fire_name  fire_size fire_size_class  \\\n",
       "0           0             0       NaN       10.0               C   \n",
       "1           1             1       NaN        3.0               B   \n",
       "2           2             2       NaN       60.0               C   \n",
       "3           3             3    WNA  1        1.0               B   \n",
       "4           4             4       NaN        2.0               B   \n",
       "\n",
       "    stat_cause_descr   latitude   longitude state disc_clean_date  ...  \\\n",
       "0  Missing/Undefined  18.105072  -66.753044    PR       2/11/2007  ...   \n",
       "1              Arson  35.038330  -87.610000    TN      12/11/2006  ...   \n",
       "2              Arson  34.947800  -88.722500    MS       2/29/2004  ...   \n",
       "3     Debris Burning  39.641400 -119.308300    NV        6/6/2005  ...   \n",
       "4      Miscellaneous  30.700600  -90.591400    LA       9/22/1999  ...   \n",
       "\n",
       "  Wind_cont Hum_pre_30 Hum_pre_15  Hum_pre_7   Hum_cont Prec_pre_30  \\\n",
       "0  3.250413  78.216590  76.793750  76.381579  78.724370         0.0   \n",
       "1  2.122320  70.840000  65.858911  55.505882  81.682678        59.8   \n",
       "2  3.369050  75.531629  75.868613  76.812834  65.063800       168.8   \n",
       "3  0.000000  44.778429  37.140811  35.353846   0.000000        10.4   \n",
       "4 -1.000000  -1.000000  -1.000000  -1.000000  -1.000000        -1.0   \n",
       "\n",
       "   Prec_pre_15 Prec_pre_7 Prec_cont  remoteness  \n",
       "0          0.0        0.0       0.0    0.017923  \n",
       "1          8.4        0.0      86.8    0.184355  \n",
       "2         42.2       18.1     124.5    0.194544  \n",
       "3          7.2        0.0       0.0    0.487447  \n",
       "4         -1.0       -1.0      -1.0    0.214633  \n",
       "\n",
       "[5 rows x 43 columns]"
      ],
      "text/html": "<div>\n<style scoped>\n    .dataframe tbody tr th:only-of-type {\n        vertical-align: middle;\n    }\n\n    .dataframe tbody tr th {\n        vertical-align: top;\n    }\n\n    .dataframe thead th {\n        text-align: right;\n    }\n</style>\n<table border=\"1\" class=\"dataframe\">\n  <thead>\n    <tr style=\"text-align: right;\">\n      <th></th>\n      <th>Unnamed: 0</th>\n      <th>Unnamed: 0.1</th>\n      <th>fire_name</th>\n      <th>fire_size</th>\n      <th>fire_size_class</th>\n      <th>stat_cause_descr</th>\n      <th>latitude</th>\n      <th>longitude</th>\n      <th>state</th>\n      <th>disc_clean_date</th>\n      <th>...</th>\n      <th>Wind_cont</th>\n      <th>Hum_pre_30</th>\n      <th>Hum_pre_15</th>\n      <th>Hum_pre_7</th>\n      <th>Hum_cont</th>\n      <th>Prec_pre_30</th>\n      <th>Prec_pre_15</th>\n      <th>Prec_pre_7</th>\n      <th>Prec_cont</th>\n      <th>remoteness</th>\n    </tr>\n  </thead>\n  <tbody>\n    <tr>\n      <th>0</th>\n      <td>0</td>\n      <td>0</td>\n      <td>NaN</td>\n      <td>10.0</td>\n      <td>C</td>\n      <td>Missing/Undefined</td>\n      <td>18.105072</td>\n      <td>-66.753044</td>\n      <td>PR</td>\n      <td>2/11/2007</td>\n      <td>...</td>\n      <td>3.250413</td>\n      <td>78.216590</td>\n      <td>76.793750</td>\n      <td>76.381579</td>\n      <td>78.724370</td>\n      <td>0.0</td>\n      <td>0.0</td>\n      <td>0.0</td>\n      <td>0.0</td>\n      <td>0.017923</td>\n    </tr>\n    <tr>\n      <th>1</th>\n      <td>1</td>\n      <td>1</td>\n      <td>NaN</td>\n      <td>3.0</td>\n      <td>B</td>\n      <td>Arson</td>\n      <td>35.038330</td>\n      <td>-87.610000</td>\n      <td>TN</td>\n      <td>12/11/2006</td>\n      <td>...</td>\n      <td>2.122320</td>\n      <td>70.840000</td>\n      <td>65.858911</td>\n      <td>55.505882</td>\n      <td>81.682678</td>\n      <td>59.8</td>\n      <td>8.4</td>\n      <td>0.0</td>\n      <td>86.8</td>\n      <td>0.184355</td>\n    </tr>\n    <tr>\n      <th>2</th>\n      <td>2</td>\n      <td>2</td>\n      <td>NaN</td>\n      <td>60.0</td>\n      <td>C</td>\n      <td>Arson</td>\n      <td>34.947800</td>\n      <td>-88.722500</td>\n      <td>MS</td>\n      <td>2/29/2004</td>\n      <td>...</td>\n      <td>3.369050</td>\n      <td>75.531629</td>\n      <td>75.868613</td>\n      <td>76.812834</td>\n      <td>65.063800</td>\n      <td>168.8</td>\n      <td>42.2</td>\n      <td>18.1</td>\n      <td>124.5</td>\n      <td>0.194544</td>\n    </tr>\n    <tr>\n      <th>3</th>\n      <td>3</td>\n      <td>3</td>\n      <td>WNA  1</td>\n      <td>1.0</td>\n      <td>B</td>\n      <td>Debris Burning</td>\n      <td>39.641400</td>\n      <td>-119.308300</td>\n      <td>NV</td>\n      <td>6/6/2005</td>\n      <td>...</td>\n      <td>0.000000</td>\n      <td>44.778429</td>\n      <td>37.140811</td>\n      <td>35.353846</td>\n      <td>0.000000</td>\n      <td>10.4</td>\n      <td>7.2</td>\n      <td>0.0</td>\n      <td>0.0</td>\n      <td>0.487447</td>\n    </tr>\n    <tr>\n      <th>4</th>\n      <td>4</td>\n      <td>4</td>\n      <td>NaN</td>\n      <td>2.0</td>\n      <td>B</td>\n      <td>Miscellaneous</td>\n      <td>30.700600</td>\n      <td>-90.591400</td>\n      <td>LA</td>\n      <td>9/22/1999</td>\n      <td>...</td>\n      <td>-1.000000</td>\n      <td>-1.000000</td>\n      <td>-1.000000</td>\n      <td>-1.000000</td>\n      <td>-1.000000</td>\n      <td>-1.0</td>\n      <td>-1.0</td>\n      <td>-1.0</td>\n      <td>-1.0</td>\n      <td>0.214633</td>\n    </tr>\n  </tbody>\n</table>\n<p>5 rows × 43 columns</p>\n</div>"
     },
     "metadata": {},
     "execution_count": 2
    }
   ],
   "source": [
    "data = pd.read_csv('../data/WildfireData.csv')\n",
    "data.head()"
   ]
  },
  {
   "cell_type": "code",
   "execution_count": 3,
   "metadata": {},
   "outputs": [
    {
     "output_type": "execute_result",
     "data": {
      "text/plain": [
       "   fire_size  remoteness                putout_time   stat_cause_descr\n",
       "0       10.0    0.017923                        NaN  Missing/Undefined\n",
       "1        3.0    0.184355                        NaN              Arson\n",
       "2       60.0    0.194544                        NaN              Arson\n",
       "3        1.0    0.487447  0 days 00:00:00.000000000     Debris Burning\n",
       "4        2.0    0.214633                        NaN      Miscellaneous"
      ],
      "text/html": "<div>\n<style scoped>\n    .dataframe tbody tr th:only-of-type {\n        vertical-align: middle;\n    }\n\n    .dataframe tbody tr th {\n        vertical-align: top;\n    }\n\n    .dataframe thead th {\n        text-align: right;\n    }\n</style>\n<table border=\"1\" class=\"dataframe\">\n  <thead>\n    <tr style=\"text-align: right;\">\n      <th></th>\n      <th>fire_size</th>\n      <th>remoteness</th>\n      <th>putout_time</th>\n      <th>stat_cause_descr</th>\n    </tr>\n  </thead>\n  <tbody>\n    <tr>\n      <th>0</th>\n      <td>10.0</td>\n      <td>0.017923</td>\n      <td>NaN</td>\n      <td>Missing/Undefined</td>\n    </tr>\n    <tr>\n      <th>1</th>\n      <td>3.0</td>\n      <td>0.184355</td>\n      <td>NaN</td>\n      <td>Arson</td>\n    </tr>\n    <tr>\n      <th>2</th>\n      <td>60.0</td>\n      <td>0.194544</td>\n      <td>NaN</td>\n      <td>Arson</td>\n    </tr>\n    <tr>\n      <th>3</th>\n      <td>1.0</td>\n      <td>0.487447</td>\n      <td>0 days 00:00:00.000000000</td>\n      <td>Debris Burning</td>\n    </tr>\n    <tr>\n      <th>4</th>\n      <td>2.0</td>\n      <td>0.214633</td>\n      <td>NaN</td>\n      <td>Miscellaneous</td>\n    </tr>\n  </tbody>\n</table>\n</div>"
     },
     "metadata": {},
     "execution_count": 3
    }
   ],
   "source": [
    "data = data[['fire_size', 'remoteness', 'putout_time', 'stat_cause_descr']]\n",
    "data.head()"
   ]
  },
  {
   "cell_type": "code",
   "execution_count": 4,
   "metadata": {},
   "outputs": [
    {
     "output_type": "execute_result",
     "data": {
      "text/plain": [
       "    fire_size  remoteness putout_time stat_cause_descr\n",
       "3         1.0    0.487447           0   Debris Burning\n",
       "11       37.0    0.191923           0            Arson\n",
       "24       40.0    0.199485           0            Arson\n",
       "26        2.0    0.227270           0   Debris Burning\n",
       "31        1.2    0.292303           0   Debris Burning"
      ],
      "text/html": "<div>\n<style scoped>\n    .dataframe tbody tr th:only-of-type {\n        vertical-align: middle;\n    }\n\n    .dataframe tbody tr th {\n        vertical-align: top;\n    }\n\n    .dataframe thead th {\n        text-align: right;\n    }\n</style>\n<table border=\"1\" class=\"dataframe\">\n  <thead>\n    <tr style=\"text-align: right;\">\n      <th></th>\n      <th>fire_size</th>\n      <th>remoteness</th>\n      <th>putout_time</th>\n      <th>stat_cause_descr</th>\n    </tr>\n  </thead>\n  <tbody>\n    <tr>\n      <th>3</th>\n      <td>1.0</td>\n      <td>0.487447</td>\n      <td>0</td>\n      <td>Debris Burning</td>\n    </tr>\n    <tr>\n      <th>11</th>\n      <td>37.0</td>\n      <td>0.191923</td>\n      <td>0</td>\n      <td>Arson</td>\n    </tr>\n    <tr>\n      <th>24</th>\n      <td>40.0</td>\n      <td>0.199485</td>\n      <td>0</td>\n      <td>Arson</td>\n    </tr>\n    <tr>\n      <th>26</th>\n      <td>2.0</td>\n      <td>0.227270</td>\n      <td>0</td>\n      <td>Debris Burning</td>\n    </tr>\n    <tr>\n      <th>31</th>\n      <td>1.2</td>\n      <td>0.292303</td>\n      <td>0</td>\n      <td>Debris Burning</td>\n    </tr>\n  </tbody>\n</table>\n</div>"
     },
     "metadata": {},
     "execution_count": 4
    }
   ],
   "source": [
    "data = data.dropna()\n",
    "data['putout_time'] = data['putout_time'].str.split(' ').str[0]\n",
    "data = data[data.stat_cause_descr != 'Miscellaneous']\n",
    "data = data[data.stat_cause_descr != 'Missing/Undefined']\n",
    "data.head()"
   ]
  },
  {
   "cell_type": "code",
   "execution_count": 5,
   "metadata": {},
   "outputs": [
    {
     "output_type": "execute_result",
     "data": {
      "text/plain": [
       "array(['Debris Burning', 'Arson', 'Lightning', 'Equipment Use',\n",
       "       'Campfire', 'Structure', 'Children', 'Smoking', 'Powerline',\n",
       "       'Railroad', 'Fireworks'], dtype=object)"
      ]
     },
     "metadata": {},
     "execution_count": 5
    }
   ],
   "source": [
    "data.stat_cause_descr.unique()"
   ]
  },
  {
   "cell_type": "code",
   "execution_count": 6,
   "metadata": {},
   "outputs": [
    {
     "output_type": "execute_result",
     "data": {
      "text/plain": [
       "    fire_size  remoteness putout_time  stat_cause_descr\n",
       "3         1.0    0.487447           0                 0\n",
       "11       37.0    0.191923           0                 1\n",
       "24       40.0    0.199485           0                 1\n",
       "26        2.0    0.227270           0                 0\n",
       "31        1.2    0.292303           0                 0"
      ],
      "text/html": "<div>\n<style scoped>\n    .dataframe tbody tr th:only-of-type {\n        vertical-align: middle;\n    }\n\n    .dataframe tbody tr th {\n        vertical-align: top;\n    }\n\n    .dataframe thead th {\n        text-align: right;\n    }\n</style>\n<table border=\"1\" class=\"dataframe\">\n  <thead>\n    <tr style=\"text-align: right;\">\n      <th></th>\n      <th>fire_size</th>\n      <th>remoteness</th>\n      <th>putout_time</th>\n      <th>stat_cause_descr</th>\n    </tr>\n  </thead>\n  <tbody>\n    <tr>\n      <th>3</th>\n      <td>1.0</td>\n      <td>0.487447</td>\n      <td>0</td>\n      <td>0</td>\n    </tr>\n    <tr>\n      <th>11</th>\n      <td>37.0</td>\n      <td>0.191923</td>\n      <td>0</td>\n      <td>1</td>\n    </tr>\n    <tr>\n      <th>24</th>\n      <td>40.0</td>\n      <td>0.199485</td>\n      <td>0</td>\n      <td>1</td>\n    </tr>\n    <tr>\n      <th>26</th>\n      <td>2.0</td>\n      <td>0.227270</td>\n      <td>0</td>\n      <td>0</td>\n    </tr>\n    <tr>\n      <th>31</th>\n      <td>1.2</td>\n      <td>0.292303</td>\n      <td>0</td>\n      <td>0</td>\n    </tr>\n  </tbody>\n</table>\n</div>"
     },
     "metadata": {},
     "execution_count": 6
    }
   ],
   "source": [
    "data['stat_cause_descr'] = data['stat_cause_descr'].map({\n",
    "    'Debris Burning': 0,\n",
    "    'Arson': 1,\n",
    "    'Lightning': 2,\n",
    "    'Equipment Use': 3,\n",
    "    'Campfire': 4,\n",
    "    'Structure': 5,\n",
    "    'Children': 5,\n",
    "    'Smoking': 5,\n",
    "    'Powerline': 5,\n",
    "    'Railroad': 5,\n",
    "    'Fireworks': 5,\n",
    "})\n",
    "data.stat_cause_descr.unique()\n",
    "data.head()"
   ]
  },
  {
   "cell_type": "code",
   "execution_count": 7,
   "metadata": {},
   "outputs": [
    {
     "output_type": "stream",
     "name": "stdout",
     "text": [
      "    fire_size  remoteness  putout_time\n3         1.0    0.487447          0.0\n11       37.0    0.191923          0.0\n24       40.0    0.199485          0.0\n26        2.0    0.227270          0.0\n31        1.2    0.292303          0.0\n3     0.0\n11    1.0\n24    1.0\n26    0.0\n31    0.0\nName: stat_cause_descr, dtype: float64\n"
     ]
    }
   ],
   "source": [
    "from sklearn.model_selection import train_test_split\n",
    "X = data.drop('stat_cause_descr', axis=1).astype('float')\n",
    "y = data.stat_cause_descr.astype('float')\n",
    "print(X.head())\n",
    "print(y.head())\n",
    "X_train, X_test, y_train, y_test = train_test_split(X, y, test_size=0.1)"
   ]
  },
  {
   "cell_type": "code",
   "execution_count": 8,
   "metadata": {},
   "outputs": [],
   "source": [
    "from tensorflow.keras.utils import to_categorical\n",
    "y_train = to_categorical(y_train)\n",
    "y_test = to_categorical(y_test)"
   ]
  },
  {
   "cell_type": "code",
   "execution_count": 9,
   "metadata": {},
   "outputs": [
    {
     "output_type": "execute_result",
     "data": {
      "text/plain": [
       "array([0., 1., 0., 0., 0., 0.], dtype=float32)"
      ]
     },
     "metadata": {},
     "execution_count": 9
    }
   ],
   "source": [
    " y_test[0]"
   ]
  },
  {
   "cell_type": "code",
   "execution_count": 10,
   "metadata": {},
   "outputs": [],
   "source": [
    "model = Sequential()\n",
    "model.add(Dense(32, input_dim=(3), activation='relu'))\n",
    "model.add(Dense(16, activation='relu'))\n",
    "model.add(Dense(8, activation='relu'))\n",
    "model.add(Dense(6, activation='softmax'))"
   ]
  },
  {
   "cell_type": "code",
   "execution_count": 11,
   "metadata": {},
   "outputs": [],
   "source": [
    "model.compile(loss='categorical_crossentropy', optimizer='adam', metrics=['accuracy'])"
   ]
  },
  {
   "cell_type": "code",
   "execution_count": 12,
   "metadata": {},
   "outputs": [
    {
     "output_type": "stream",
     "name": "stdout",
     "text": [
      "Epoch 1/100\n",
      "301/301 [==============================] - 15s 3ms/step - loss: 31.1978 - accuracy: 0.3064 - val_loss: 1.6605 - val_accuracy: 0.1838\n",
      "Epoch 2/100\n",
      "301/301 [==============================] - 0s 970us/step - loss: 1.7230 - accuracy: 0.2345 - val_loss: 1.5543 - val_accuracy: 0.4359\n",
      "Epoch 3/100\n",
      "301/301 [==============================] - 0s 1ms/step - loss: 1.5347 - accuracy: 0.4649 - val_loss: 1.5007 - val_accuracy: 0.4401\n",
      "Epoch 4/100\n",
      "301/301 [==============================] - 0s 1ms/step - loss: 1.4920 - accuracy: 0.4543 - val_loss: 1.4658 - val_accuracy: 0.4448\n",
      "Epoch 5/100\n",
      "301/301 [==============================] - 0s 1ms/step - loss: 1.4610 - accuracy: 0.4573 - val_loss: 1.4424 - val_accuracy: 0.4486\n",
      "Epoch 6/100\n",
      "301/301 [==============================] - 0s 1ms/step - loss: 1.4411 - accuracy: 0.4666 - val_loss: 1.4273 - val_accuracy: 0.4551\n",
      "Epoch 7/100\n",
      "301/301 [==============================] - 0s 1ms/step - loss: 1.4176 - accuracy: 0.4687 - val_loss: 1.4160 - val_accuracy: 0.4588\n",
      "Epoch 8/100\n",
      "301/301 [==============================] - 0s 1ms/step - loss: 1.3979 - accuracy: 0.4718 - val_loss: 1.4092 - val_accuracy: 0.4621\n",
      "Epoch 9/100\n",
      "301/301 [==============================] - 0s 1ms/step - loss: 1.3991 - accuracy: 0.4787 - val_loss: 1.4034 - val_accuracy: 0.4626\n",
      "Epoch 10/100\n",
      "301/301 [==============================] - 0s 894us/step - loss: 1.3796 - accuracy: 0.4788 - val_loss: 1.3971 - val_accuracy: 0.4654\n",
      "Epoch 11/100\n",
      "301/301 [==============================] - 0s 2ms/step - loss: 1.3832 - accuracy: 0.4805 - val_loss: 1.3879 - val_accuracy: 0.4691\n",
      "Epoch 12/100\n",
      "301/301 [==============================] - 0s 1ms/step - loss: 1.3605 - accuracy: 0.4870 - val_loss: 1.3744 - val_accuracy: 0.4715\n",
      "Epoch 13/100\n",
      "301/301 [==============================] - 0s 1ms/step - loss: 1.3507 - accuracy: 0.4878 - val_loss: 1.3538 - val_accuracy: 0.4846\n",
      "Epoch 14/100\n",
      "301/301 [==============================] - 0s 1ms/step - loss: 1.3423 - accuracy: 0.4942 - val_loss: 1.3537 - val_accuracy: 0.4822\n",
      "Epoch 15/100\n",
      "301/301 [==============================] - 0s 1ms/step - loss: 1.3364 - accuracy: 0.4931 - val_loss: 1.3394 - val_accuracy: 0.4818\n",
      "Epoch 16/100\n",
      "301/301 [==============================] - 0s 1ms/step - loss: 1.3157 - accuracy: 0.4958 - val_loss: 1.3370 - val_accuracy: 0.4855\n",
      "Epoch 17/100\n",
      "301/301 [==============================] - 0s 1ms/step - loss: 1.4070 - accuracy: 0.4925 - val_loss: 1.4165 - val_accuracy: 0.4579\n",
      "Epoch 18/100\n",
      "301/301 [==============================] - 0s 1ms/step - loss: 1.5536 - accuracy: 0.4653 - val_loss: 1.4397 - val_accuracy: 0.4471\n",
      "Epoch 19/100\n",
      "301/301 [==============================] - 0s 1ms/step - loss: 1.4204 - accuracy: 0.4576 - val_loss: 1.4247 - val_accuracy: 0.4546\n",
      "Epoch 20/100\n",
      "301/301 [==============================] - 0s 1ms/step - loss: 1.4079 - accuracy: 0.4627 - val_loss: 1.4179 - val_accuracy: 0.4551\n",
      "Epoch 21/100\n",
      "301/301 [==============================] - 0s 927us/step - loss: 1.4035 - accuracy: 0.4710 - val_loss: 1.4110 - val_accuracy: 0.4556\n",
      "Epoch 22/100\n",
      "301/301 [==============================] - 0s 914us/step - loss: 1.4009 - accuracy: 0.4746 - val_loss: 1.4072 - val_accuracy: 0.4542\n",
      "Epoch 23/100\n",
      "301/301 [==============================] - 0s 1ms/step - loss: 1.3998 - accuracy: 0.4723 - val_loss: 1.4028 - val_accuracy: 0.4532\n",
      "Epoch 24/100\n",
      "301/301 [==============================] - 0s 1ms/step - loss: 1.3839 - accuracy: 0.4761 - val_loss: 1.3998 - val_accuracy: 0.4598\n",
      "Epoch 25/100\n",
      "301/301 [==============================] - 0s 1ms/step - loss: 1.3965 - accuracy: 0.4726 - val_loss: 1.3958 - val_accuracy: 0.4635\n",
      "Epoch 26/100\n",
      "301/301 [==============================] - 0s 1ms/step - loss: 1.3791 - accuracy: 0.4802 - val_loss: 1.3937 - val_accuracy: 0.4743\n",
      "Epoch 27/100\n",
      "301/301 [==============================] - 0s 924us/step - loss: 1.3808 - accuracy: 0.4825 - val_loss: 1.3897 - val_accuracy: 0.4701\n",
      "Epoch 28/100\n",
      "301/301 [==============================] - 0s 910us/step - loss: 1.3801 - accuracy: 0.4796 - val_loss: 1.3866 - val_accuracy: 0.4682\n",
      "Epoch 29/100\n",
      "301/301 [==============================] - 0s 997us/step - loss: 1.3753 - accuracy: 0.4788 - val_loss: 1.3821 - val_accuracy: 0.4696\n",
      "Epoch 30/100\n",
      "301/301 [==============================] - 0s 1ms/step - loss: 1.3619 - accuracy: 0.4864 - val_loss: 1.3799 - val_accuracy: 0.4724\n",
      "Epoch 31/100\n",
      "301/301 [==============================] - 0s 1ms/step - loss: 1.3698 - accuracy: 0.4848 - val_loss: 1.3741 - val_accuracy: 0.4818\n",
      "Epoch 32/100\n",
      "301/301 [==============================] - 0s 1ms/step - loss: 1.3735 - accuracy: 0.4838 - val_loss: 1.3773 - val_accuracy: 0.4766\n",
      "Epoch 33/100\n",
      "301/301 [==============================] - 0s 1ms/step - loss: 1.3595 - accuracy: 0.4906 - val_loss: 1.3714 - val_accuracy: 0.4869\n",
      "Epoch 34/100\n",
      "301/301 [==============================] - 0s 1ms/step - loss: 1.3628 - accuracy: 0.4883 - val_loss: 1.3612 - val_accuracy: 0.4888\n",
      "Epoch 35/100\n",
      "301/301 [==============================] - 0s 1ms/step - loss: 1.3488 - accuracy: 0.4942 - val_loss: 1.3508 - val_accuracy: 0.4916\n",
      "Epoch 36/100\n",
      "301/301 [==============================] - 1s 2ms/step - loss: 1.3396 - accuracy: 0.4986 - val_loss: 1.3379 - val_accuracy: 0.4878\n",
      "Epoch 37/100\n",
      "301/301 [==============================] - 0s 1ms/step - loss: 1.3423 - accuracy: 0.5018 - val_loss: 1.3311 - val_accuracy: 0.4995\n",
      "Epoch 38/100\n",
      "301/301 [==============================] - 0s 1ms/step - loss: 1.3210 - accuracy: 0.5077 - val_loss: 1.3282 - val_accuracy: 0.5140\n",
      "Epoch 39/100\n",
      "301/301 [==============================] - 0s 1ms/step - loss: 1.3254 - accuracy: 0.5066 - val_loss: 1.3232 - val_accuracy: 0.5023\n",
      "Epoch 40/100\n",
      "301/301 [==============================] - 0s 1ms/step - loss: 1.3223 - accuracy: 0.5037 - val_loss: 1.3219 - val_accuracy: 0.5047\n",
      "Epoch 41/100\n",
      "301/301 [==============================] - 0s 1ms/step - loss: 1.2971 - accuracy: 0.5199 - val_loss: 1.3220 - val_accuracy: 0.5201\n",
      "Epoch 42/100\n",
      "301/301 [==============================] - 0s 1ms/step - loss: 1.3130 - accuracy: 0.5142 - val_loss: 1.5132 - val_accuracy: 0.4373\n",
      "Epoch 43/100\n",
      "301/301 [==============================] - 0s 1ms/step - loss: 1.4759 - accuracy: 0.4433 - val_loss: 1.4335 - val_accuracy: 0.4556\n",
      "Epoch 44/100\n",
      "301/301 [==============================] - 0s 1ms/step - loss: 1.4125 - accuracy: 0.4685 - val_loss: 1.4092 - val_accuracy: 0.4584\n",
      "Epoch 45/100\n",
      "301/301 [==============================] - 0s 1ms/step - loss: 1.3796 - accuracy: 0.4867 - val_loss: 1.3447 - val_accuracy: 0.5061\n",
      "Epoch 46/100\n",
      "301/301 [==============================] - 0s 1ms/step - loss: 1.3471 - accuracy: 0.5053 - val_loss: 1.3371 - val_accuracy: 0.5089\n",
      "Epoch 47/100\n",
      "301/301 [==============================] - 0s 989us/step - loss: 1.3168 - accuracy: 0.5157 - val_loss: 1.3329 - val_accuracy: 0.5080\n",
      "Epoch 48/100\n",
      "301/301 [==============================] - 0s 1ms/step - loss: 1.3494 - accuracy: 0.5033 - val_loss: 1.3775 - val_accuracy: 0.4747\n",
      "Epoch 49/100\n",
      "301/301 [==============================] - 0s 1ms/step - loss: 1.3662 - accuracy: 0.4921 - val_loss: 1.3509 - val_accuracy: 0.4944\n",
      "Epoch 50/100\n",
      "301/301 [==============================] - 0s 1ms/step - loss: 1.3368 - accuracy: 0.5040 - val_loss: 1.3328 - val_accuracy: 0.4864\n",
      "Epoch 51/100\n",
      "301/301 [==============================] - 0s 994us/step - loss: 1.3176 - accuracy: 0.5125 - val_loss: 1.3220 - val_accuracy: 0.5122\n",
      "Epoch 52/100\n",
      "301/301 [==============================] - 0s 1ms/step - loss: 1.3129 - accuracy: 0.5187 - val_loss: 1.3192 - val_accuracy: 0.5061\n",
      "Epoch 53/100\n",
      "301/301 [==============================] - 0s 988us/step - loss: 1.3239 - accuracy: 0.5108 - val_loss: 1.3469 - val_accuracy: 0.4977\n",
      "Epoch 54/100\n",
      "301/301 [==============================] - 0s 1ms/step - loss: 1.3131 - accuracy: 0.5140 - val_loss: 1.3395 - val_accuracy: 0.5033\n",
      "Epoch 55/100\n",
      "301/301 [==============================] - 0s 1ms/step - loss: 1.3143 - accuracy: 0.5140 - val_loss: 1.3211 - val_accuracy: 0.5070\n",
      "Epoch 56/100\n",
      "301/301 [==============================] - 0s 1ms/step - loss: 1.3074 - accuracy: 0.5179 - val_loss: 1.3242 - val_accuracy: 0.5126\n",
      "Epoch 57/100\n",
      "301/301 [==============================] - 0s 1ms/step - loss: 1.3062 - accuracy: 0.5171 - val_loss: 1.3187 - val_accuracy: 0.5126\n",
      "Epoch 58/100\n",
      "301/301 [==============================] - 0s 1ms/step - loss: 1.3195 - accuracy: 0.5129 - val_loss: 1.3345 - val_accuracy: 0.5075\n",
      "Epoch 59/100\n",
      "301/301 [==============================] - 0s 1ms/step - loss: 1.3126 - accuracy: 0.5164 - val_loss: 1.3152 - val_accuracy: 0.5131\n",
      "Epoch 60/100\n",
      "301/301 [==============================] - 0s 1ms/step - loss: 1.3670 - accuracy: 0.5047 - val_loss: 1.3355 - val_accuracy: 0.5056\n",
      "Epoch 61/100\n",
      "301/301 [==============================] - 0s 1ms/step - loss: 1.3194 - accuracy: 0.5077 - val_loss: 1.3247 - val_accuracy: 0.5061\n",
      "Epoch 62/100\n",
      "301/301 [==============================] - 0s 1ms/step - loss: 1.3040 - accuracy: 0.5135 - val_loss: 1.3218 - val_accuracy: 0.5089\n",
      "Epoch 63/100\n",
      "301/301 [==============================] - 0s 984us/step - loss: 1.3052 - accuracy: 0.5158 - val_loss: 1.3210 - val_accuracy: 0.5108\n",
      "Epoch 64/100\n",
      "301/301 [==============================] - 0s 1ms/step - loss: 1.3074 - accuracy: 0.5147 - val_loss: 1.3302 - val_accuracy: 0.5047\n",
      "Epoch 65/100\n",
      "301/301 [==============================] - 0s 1ms/step - loss: 1.3263 - accuracy: 0.5087 - val_loss: 1.3223 - val_accuracy: 0.5108\n",
      "Epoch 66/100\n",
      "301/301 [==============================] - 0s 1ms/step - loss: 1.2998 - accuracy: 0.5205 - val_loss: 1.3187 - val_accuracy: 0.5159\n",
      "Epoch 67/100\n",
      "301/301 [==============================] - 0s 1ms/step - loss: 1.2963 - accuracy: 0.5194 - val_loss: 1.3204 - val_accuracy: 0.5014\n",
      "Epoch 68/100\n",
      "301/301 [==============================] - 0s 1ms/step - loss: 1.3016 - accuracy: 0.5171 - val_loss: 1.3211 - val_accuracy: 0.5140\n",
      "Epoch 69/100\n",
      "301/301 [==============================] - 0s 1ms/step - loss: 1.3451 - accuracy: 0.5038 - val_loss: 1.3179 - val_accuracy: 0.5136\n",
      "Epoch 70/100\n",
      "301/301 [==============================] - 0s 1ms/step - loss: 1.3030 - accuracy: 0.5146 - val_loss: 1.3226 - val_accuracy: 0.5154\n",
      "Epoch 71/100\n",
      "301/301 [==============================] - 0s 1ms/step - loss: 1.2959 - accuracy: 0.5231 - val_loss: 1.3119 - val_accuracy: 0.5154\n",
      "Epoch 72/100\n",
      "301/301 [==============================] - 0s 1ms/step - loss: 1.2935 - accuracy: 0.5220 - val_loss: 1.3147 - val_accuracy: 0.5178\n",
      "Epoch 73/100\n",
      "301/301 [==============================] - 0s 1ms/step - loss: 1.2919 - accuracy: 0.5191 - val_loss: 1.3155 - val_accuracy: 0.5159\n",
      "Epoch 74/100\n",
      "301/301 [==============================] - 0s 1ms/step - loss: 1.3423 - accuracy: 0.4968 - val_loss: 1.4179 - val_accuracy: 0.4710\n",
      "Epoch 75/100\n",
      "301/301 [==============================] - 0s 1ms/step - loss: 1.3816 - accuracy: 0.4887 - val_loss: 1.3770 - val_accuracy: 0.4892\n",
      "Epoch 76/100\n",
      "301/301 [==============================] - 0s 1ms/step - loss: 1.3601 - accuracy: 0.4982 - val_loss: 1.3336 - val_accuracy: 0.5112\n",
      "Epoch 77/100\n",
      "301/301 [==============================] - 0s 1ms/step - loss: 1.3222 - accuracy: 0.5108 - val_loss: 1.3194 - val_accuracy: 0.5220\n",
      "Epoch 78/100\n",
      "301/301 [==============================] - 0s 1ms/step - loss: 1.3100 - accuracy: 0.5174 - val_loss: 1.3188 - val_accuracy: 0.5168\n",
      "Epoch 79/100\n",
      "301/301 [==============================] - 1s 2ms/step - loss: 1.3038 - accuracy: 0.5197 - val_loss: 1.4216 - val_accuracy: 0.4677\n",
      "Epoch 80/100\n",
      "301/301 [==============================] - 1s 2ms/step - loss: 1.3996 - accuracy: 0.4756 - val_loss: 1.3873 - val_accuracy: 0.4794\n",
      "Epoch 81/100\n",
      "301/301 [==============================] - 1s 2ms/step - loss: 1.3707 - accuracy: 0.4900 - val_loss: 1.3772 - val_accuracy: 0.4892\n",
      "Epoch 82/100\n",
      "301/301 [==============================] - 0s 2ms/step - loss: 1.3701 - accuracy: 0.4919 - val_loss: 1.3708 - val_accuracy: 0.4920\n",
      "Epoch 83/100\n",
      "301/301 [==============================] - 0s 2ms/step - loss: 1.3578 - accuracy: 0.4940 - val_loss: 1.3668 - val_accuracy: 0.4906\n",
      "Epoch 84/100\n",
      "301/301 [==============================] - 0s 2ms/step - loss: 1.3652 - accuracy: 0.4921 - val_loss: 1.3667 - val_accuracy: 0.4911\n",
      "Epoch 85/100\n",
      "301/301 [==============================] - 0s 1ms/step - loss: 1.3459 - accuracy: 0.4973 - val_loss: 1.3582 - val_accuracy: 0.4967\n",
      "Epoch 86/100\n",
      "301/301 [==============================] - 0s 1ms/step - loss: 1.3460 - accuracy: 0.5022 - val_loss: 1.3523 - val_accuracy: 0.4986\n",
      "Epoch 87/100\n",
      "301/301 [==============================] - 1s 2ms/step - loss: 1.3387 - accuracy: 0.5096 - val_loss: 1.3466 - val_accuracy: 0.5037\n",
      "Epoch 88/100\n",
      "301/301 [==============================] - 1s 2ms/step - loss: 1.3443 - accuracy: 0.5035 - val_loss: 1.3396 - val_accuracy: 0.5070\n",
      "Epoch 89/100\n",
      "301/301 [==============================] - 0s 2ms/step - loss: 1.3252 - accuracy: 0.5110 - val_loss: 1.3315 - val_accuracy: 0.5168\n",
      "Epoch 90/100\n",
      "301/301 [==============================] - 0s 1ms/step - loss: 1.3355 - accuracy: 0.5075 - val_loss: 1.3286 - val_accuracy: 0.5150\n",
      "Epoch 91/100\n",
      "301/301 [==============================] - 0s 1ms/step - loss: 1.3109 - accuracy: 0.5194 - val_loss: 1.3147 - val_accuracy: 0.5131\n",
      "Epoch 92/100\n",
      "301/301 [==============================] - 0s 1ms/step - loss: 1.3124 - accuracy: 0.5148 - val_loss: 1.3199 - val_accuracy: 0.5248\n",
      "Epoch 93/100\n",
      "301/301 [==============================] - 0s 1ms/step - loss: 1.3096 - accuracy: 0.5214 - val_loss: 1.3118 - val_accuracy: 0.5262\n",
      "Epoch 94/100\n",
      "301/301 [==============================] - 0s 1ms/step - loss: 1.2985 - accuracy: 0.5189 - val_loss: 1.3139 - val_accuracy: 0.5145\n",
      "Epoch 95/100\n",
      "301/301 [==============================] - 1s 2ms/step - loss: 1.3168 - accuracy: 0.5178 - val_loss: 1.3940 - val_accuracy: 0.4832\n",
      "Epoch 96/100\n",
      "301/301 [==============================] - 1s 3ms/step - loss: 1.3807 - accuracy: 0.4923 - val_loss: 1.3709 - val_accuracy: 0.4963\n",
      "Epoch 97/100\n",
      "301/301 [==============================] - 1s 3ms/step - loss: 1.3547 - accuracy: 0.5018 - val_loss: 1.3584 - val_accuracy: 0.5080\n",
      "Epoch 98/100\n",
      "301/301 [==============================] - 1s 2ms/step - loss: 1.3448 - accuracy: 0.5040 - val_loss: 1.3498 - val_accuracy: 0.5061\n",
      "Epoch 99/100\n",
      "301/301 [==============================] - 1s 2ms/step - loss: 1.3321 - accuracy: 0.5113 - val_loss: 1.3360 - val_accuracy: 0.5131\n",
      "Epoch 100/100\n",
      "301/301 [==============================] - 1s 2ms/step - loss: 1.3372 - accuracy: 0.5093 - val_loss: 1.3244 - val_accuracy: 0.5164\n"
     ]
    },
    {
     "output_type": "execute_result",
     "data": {
      "text/plain": [
       "<keras.callbacks.History at 0x240459ac308>"
      ]
     },
     "metadata": {},
     "execution_count": 12
    }
   ],
   "source": [
    "model.fit(X_train, y_train, validation_data=(X_test, y_test), epochs=100, batch_size=64, verbose=1)"
   ]
  },
  {
   "cell_type": "code",
   "execution_count": 13,
   "metadata": {},
   "outputs": [
    {
     "output_type": "execute_result",
     "data": {
      "text/plain": [
       "   fire_size  remoteness  putout_time\n",
       "0       37.0    0.191923            0"
      ],
      "text/html": "<div>\n<style scoped>\n    .dataframe tbody tr th:only-of-type {\n        vertical-align: middle;\n    }\n\n    .dataframe tbody tr th {\n        vertical-align: top;\n    }\n\n    .dataframe thead th {\n        text-align: right;\n    }\n</style>\n<table border=\"1\" class=\"dataframe\">\n  <thead>\n    <tr style=\"text-align: right;\">\n      <th></th>\n      <th>fire_size</th>\n      <th>remoteness</th>\n      <th>putout_time</th>\n    </tr>\n  </thead>\n  <tbody>\n    <tr>\n      <th>0</th>\n      <td>37.0</td>\n      <td>0.191923</td>\n      <td>0</td>\n    </tr>\n  </tbody>\n</table>\n</div>"
     },
     "metadata": {},
     "execution_count": 13
    }
   ],
   "source": [
    "test_data = {\n",
    "    'fire_size': [37.0],\n",
    "    'remoteness': [0.191923],\n",
    "    'putout_time': [0]\t\n",
    "}\n",
    "test_data = pd.DataFrame(test_data)\n",
    "test_data"
   ]
  },
  {
   "cell_type": "code",
   "execution_count": 14,
   "metadata": {},
   "outputs": [
    {
     "output_type": "execute_result",
     "data": {
      "text/plain": [
       "array([[0.4031258 , 0.46777004, 0.02570682, 0.05172341, 0.02056634,\n",
       "        0.03110755]], dtype=float32)"
      ]
     },
     "metadata": {},
     "execution_count": 14
    }
   ],
   "source": [
    "result = model.predict(test_data)\n",
    "result"
   ]
  },
  {
   "cell_type": "code",
   "execution_count": 15,
   "metadata": {},
   "outputs": [
    {
     "output_type": "stream",
     "name": "stdout",
     "text": [
      "1\n"
     ]
    }
   ],
   "source": [
    "final = 0\n",
    "for i in range(6):\n",
    "    if (result[0][i] > final):\n",
    "        final = result[0][i]\n",
    "    # print(final)\n",
    "final = np.where(result[0] == final)\n",
    "print(final[0][0])\n",
    "    "
   ]
  },
  {
   "cell_type": "code",
   "execution_count": 16,
   "metadata": {},
   "outputs": [],
   "source": [
    "model.save(\"../Weights/cause.h5\")"
   ]
  }
 ]
}