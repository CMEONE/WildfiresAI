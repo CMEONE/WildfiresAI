{
 "metadata": {
  "language_info": {
   "codemirror_mode": {
    "name": "ipython",
    "version": 3
   },
   "file_extension": ".py",
   "mimetype": "text/x-python",
   "name": "python",
   "nbconvert_exporter": "python",
   "pygments_lexer": "ipython3",
   "version": "3.7.9"
  },
  "orig_nbformat": 4,
  "kernelspec": {
   "name": "python3",
   "display_name": "Python 3.7.9 64-bit"
  },
  "interpreter": {
   "hash": "7f8c79caef6f500d10f1d53b5233fd35aa3fbbd3a39d10048919692e9c705d27"
  }
 },
 "nbformat": 4,
 "nbformat_minor": 2,
 "cells": [
  {
   "source": [
    "**Imports**"
   ],
   "cell_type": "markdown",
   "metadata": {}
  },
  {
   "cell_type": "code",
   "execution_count": null,
   "metadata": {},
   "outputs": [],
   "source": [
    "import pandas as pd\n",
    "import numpy as np\n",
    "from keras.models import Sequential\n",
    "from keras.layers import Dense"
   ]
  },
  {
   "source": [
    "**Pre-Processing**"
   ],
   "cell_type": "markdown",
   "metadata": {}
  },
  {
   "cell_type": "code",
   "execution_count": null,
   "metadata": {},
   "outputs": [],
   "source": [
    "data = pd.read_csv('../data/WildfireData.csv')\n",
    "data.head()"
   ]
  },
  {
   "cell_type": "code",
   "execution_count": null,
   "metadata": {},
   "outputs": [],
   "source": [
    "data = data[['fire_size', 'remoteness', 'putout_time', 'stat_cause_descr']]\n",
    "data.head()"
   ]
  },
  {
   "cell_type": "code",
   "execution_count": null,
   "metadata": {},
   "outputs": [],
   "source": [
    "data = data.dropna()\n",
    "data['putout_time'] = data['putout_time'].str.split(' ').str[0]\n",
    "data.head()"
   ]
  },
  {
   "cell_type": "code",
   "execution_count": null,
   "metadata": {},
   "outputs": [],
   "source": [
    "data.stat_cause_descr.unique()"
   ]
  },
  {
   "cell_type": "code",
   "execution_count": null,
   "metadata": {},
   "outputs": [],
   "source": [
    "data['stat_cause_descr'] = data['stat_cause_descr'].map({\n",
    "    'Debris Burning': 0,\n",
    "    'Arson': 1,\n",
    "    'Lightning': 2,\n",
    "    'Equipment Use': 3,\n",
    "    'Campfire': 4,\n",
    "    'Structure': 5,\n",
    "    'Children': 5,\n",
    "    'Smoking': 5,\n",
    "    'Powerline': 5,\n",
    "    'Railroad': 5,\n",
    "    'Fireworks': 5,\n",
    "    'Missing/Undefined': 5,\n",
    "    'Miscellaneous': 5\n",
    "})\n",
    "data.stat_cause_descr.unique()\n",
    "data.head()"
   ]
  },
  {
   "cell_type": "code",
   "execution_count": null,
   "metadata": {},
   "outputs": [],
   "source": [
    "from sklearn.model_selection import train_test_split\n",
    "X = data.drop('stat_cause_descr', axis=1).astype('float')\n",
    "y = data.stat_cause_descr.astype('float')\n",
    "print(X.head())\n",
    "print(y.head())\n",
    "X_train, X_test, y_train, y_test = train_test_split(X, y, test_size=0.1)"
   ]
  },
  {
   "cell_type": "code",
   "execution_count": 81,
   "metadata": {},
   "outputs": [],
   "source": [
    "from tensorflow.keras.utils import to_categorical\n",
    "y_train = to_categorical(y_train)\n",
    "y_test = to_categorical(y_test)"
   ]
  },
  {
   "cell_type": "code",
   "execution_count": null,
   "metadata": {},
   "outputs": [],
   "source": [
    " y_test[0]"
   ]
  },
  {
   "source": [
    "**NN Model**"
   ],
   "cell_type": "markdown",
   "metadata": {}
  },
  {
   "cell_type": "code",
   "execution_count": 85,
   "metadata": {},
   "outputs": [],
   "source": [
    "model = Sequential()\n",
    "model.add(Dense(24, input_dim=(3), activation='relu'))\n",
    "model.add(Dense(12, activation='relu'))\n",
    "model.add(Dense(6, activation='softmax'))"
   ]
  },
  {
   "cell_type": "code",
   "execution_count": 86,
   "metadata": {},
   "outputs": [],
   "source": [
    "model.compile(loss='categorical_crossentropy', optimizer='adam', metrics=['accuracy'])"
   ]
  },
  {
   "cell_type": "code",
   "execution_count": 87,
   "metadata": {},
   "outputs": [
    {
     "output_type": "stream",
     "name": "stdout",
     "text": [
      "Epoch 1/100\n",
      "387/387 [==============================] - 2s 2ms/step - loss: 91.7410 - accuracy: 0.2827 - val_loss: 7.8122 - val_accuracy: 0.3384\n",
      "Epoch 2/100\n",
      "387/387 [==============================] - 1s 2ms/step - loss: 12.7608 - accuracy: 0.3529 - val_loss: 10.5602 - val_accuracy: 0.3672\n",
      "Epoch 3/100\n",
      "387/387 [==============================] - 1s 2ms/step - loss: 8.9613 - accuracy: 0.3544 - val_loss: 4.2664 - val_accuracy: 0.3628\n",
      "Epoch 4/100\n",
      "387/387 [==============================] - 1s 2ms/step - loss: 7.8455 - accuracy: 0.3450 - val_loss: 9.4624 - val_accuracy: 0.3432\n",
      "Epoch 5/100\n",
      "387/387 [==============================] - 0s 1ms/step - loss: 8.1652 - accuracy: 0.3455 - val_loss: 6.4076 - val_accuracy: 0.3457\n",
      "Epoch 6/100\n",
      "387/387 [==============================] - 0s 1ms/step - loss: 10.5819 - accuracy: 0.3407 - val_loss: 6.8306 - val_accuracy: 0.3319\n",
      "Epoch 7/100\n",
      "387/387 [==============================] - 0s 1ms/step - loss: 8.0587 - accuracy: 0.3382 - val_loss: 4.6117 - val_accuracy: 0.3803\n",
      "Epoch 8/100\n",
      "387/387 [==============================] - 0s 1ms/step - loss: 7.6049 - accuracy: 0.3556 - val_loss: 11.8056 - val_accuracy: 0.3417\n",
      "Epoch 9/100\n",
      "387/387 [==============================] - 0s 1ms/step - loss: 7.2073 - accuracy: 0.3376 - val_loss: 4.5028 - val_accuracy: 0.3563\n",
      "Epoch 10/100\n",
      "387/387 [==============================] - 1s 1ms/step - loss: 7.7236 - accuracy: 0.3694 - val_loss: 5.5820 - val_accuracy: 0.3592\n",
      "Epoch 11/100\n",
      "387/387 [==============================] - 1s 2ms/step - loss: 11.8070 - accuracy: 0.3655 - val_loss: 6.7277 - val_accuracy: 0.3599\n",
      "Epoch 12/100\n",
      "387/387 [==============================] - 1s 1ms/step - loss: 7.6822 - accuracy: 0.3582 - val_loss: 2.8710 - val_accuracy: 0.2846\n",
      "Epoch 13/100\n",
      "387/387 [==============================] - 1s 1ms/step - loss: 5.4436 - accuracy: 0.3723 - val_loss: 10.6683 - val_accuracy: 0.3839\n",
      "Epoch 14/100\n",
      "387/387 [==============================] - 0s 1ms/step - loss: 7.4349 - accuracy: 0.3839 - val_loss: 10.0993 - val_accuracy: 0.3883\n",
      "Epoch 15/100\n",
      "387/387 [==============================] - 0s 1ms/step - loss: 7.6530 - accuracy: 0.3803 - val_loss: 4.8812 - val_accuracy: 0.3945\n",
      "Epoch 16/100\n",
      "387/387 [==============================] - 0s 1ms/step - loss: 7.5141 - accuracy: 0.3804 - val_loss: 3.4994 - val_accuracy: 0.3763\n",
      "Epoch 17/100\n",
      "387/387 [==============================] - 1s 1ms/step - loss: 6.0260 - accuracy: 0.3879 - val_loss: 14.5949 - val_accuracy: 0.4214\n",
      "Epoch 18/100\n",
      "387/387 [==============================] - 1s 2ms/step - loss: 6.4577 - accuracy: 0.3937 - val_loss: 4.9148 - val_accuracy: 0.3981\n",
      "Epoch 19/100\n",
      "387/387 [==============================] - 1s 2ms/step - loss: 6.1993 - accuracy: 0.3870 - val_loss: 10.0096 - val_accuracy: 0.4152\n",
      "Epoch 20/100\n",
      "387/387 [==============================] - 0s 1ms/step - loss: 4.7599 - accuracy: 0.3969 - val_loss: 6.9522 - val_accuracy: 0.3406\n",
      "Epoch 21/100\n",
      "387/387 [==============================] - 1s 1ms/step - loss: 4.7195 - accuracy: 0.4058 - val_loss: 8.4217 - val_accuracy: 0.4210\n",
      "Epoch 22/100\n",
      "387/387 [==============================] - 0s 1ms/step - loss: 4.7024 - accuracy: 0.4073 - val_loss: 10.5013 - val_accuracy: 0.4250\n",
      "Epoch 23/100\n",
      "387/387 [==============================] - 1s 2ms/step - loss: 5.7957 - accuracy: 0.4114 - val_loss: 2.7331 - val_accuracy: 0.4174\n",
      "Epoch 24/100\n",
      "387/387 [==============================] - 1s 2ms/step - loss: 4.5524 - accuracy: 0.3963 - val_loss: 5.2591 - val_accuracy: 0.3959\n",
      "Epoch 25/100\n",
      "387/387 [==============================] - 0s 1ms/step - loss: 5.3529 - accuracy: 0.3839 - val_loss: 2.9373 - val_accuracy: 0.3963\n",
      "Epoch 26/100\n",
      "387/387 [==============================] - 0s 1ms/step - loss: 4.5208 - accuracy: 0.3916 - val_loss: 3.8830 - val_accuracy: 0.3610\n",
      "Epoch 27/100\n",
      "387/387 [==============================] - 1s 1ms/step - loss: 4.8202 - accuracy: 0.4133 - val_loss: 7.4878 - val_accuracy: 0.3544\n",
      "Epoch 28/100\n",
      "387/387 [==============================] - 0s 1ms/step - loss: 6.1807 - accuracy: 0.4146 - val_loss: 2.9402 - val_accuracy: 0.3992\n",
      "Epoch 29/100\n",
      "387/387 [==============================] - 0s 1ms/step - loss: 4.1847 - accuracy: 0.4081 - val_loss: 3.3622 - val_accuracy: 0.4148\n",
      "Epoch 30/100\n",
      "387/387 [==============================] - 0s 1ms/step - loss: 4.5509 - accuracy: 0.4097 - val_loss: 4.2776 - val_accuracy: 0.4094\n",
      "Epoch 31/100\n",
      "387/387 [==============================] - 0s 1ms/step - loss: 3.8729 - accuracy: 0.4197 - val_loss: 4.7587 - val_accuracy: 0.4181\n",
      "Epoch 32/100\n",
      "387/387 [==============================] - 1s 1ms/step - loss: 4.7326 - accuracy: 0.4088 - val_loss: 9.8662 - val_accuracy: 0.3675\n",
      "Epoch 33/100\n",
      "387/387 [==============================] - 1s 1ms/step - loss: 4.9927 - accuracy: 0.4139 - val_loss: 8.1191 - val_accuracy: 0.4265\n",
      "Epoch 34/100\n",
      "387/387 [==============================] - 1s 1ms/step - loss: 4.3011 - accuracy: 0.4131 - val_loss: 10.8381 - val_accuracy: 0.4298\n",
      "Epoch 35/100\n",
      "387/387 [==============================] - 0s 1ms/step - loss: 4.0670 - accuracy: 0.4221 - val_loss: 4.0655 - val_accuracy: 0.3759\n",
      "Epoch 36/100\n",
      "387/387 [==============================] - 0s 1ms/step - loss: 4.3999 - accuracy: 0.4179 - val_loss: 5.0313 - val_accuracy: 0.4378\n",
      "Epoch 37/100\n",
      "387/387 [==============================] - 0s 1ms/step - loss: 3.3036 - accuracy: 0.4223 - val_loss: 3.0878 - val_accuracy: 0.4381\n",
      "Epoch 38/100\n",
      "387/387 [==============================] - 0s 1ms/step - loss: 3.1604 - accuracy: 0.4184 - val_loss: 4.0743 - val_accuracy: 0.3737\n",
      "Epoch 39/100\n",
      "387/387 [==============================] - 0s 1ms/step - loss: 3.4212 - accuracy: 0.4241 - val_loss: 5.6149 - val_accuracy: 0.4349\n",
      "Epoch 40/100\n",
      "387/387 [==============================] - 0s 1ms/step - loss: 2.8623 - accuracy: 0.4300 - val_loss: 2.4061 - val_accuracy: 0.4523\n",
      "Epoch 41/100\n",
      "387/387 [==============================] - 0s 1ms/step - loss: 3.7285 - accuracy: 0.4247 - val_loss: 3.2437 - val_accuracy: 0.4578\n",
      "Epoch 42/100\n",
      "387/387 [==============================] - 0s 1ms/step - loss: 3.4646 - accuracy: 0.4368 - val_loss: 7.8475 - val_accuracy: 0.4465\n",
      "Epoch 43/100\n",
      "387/387 [==============================] - 0s 1ms/step - loss: 4.2353 - accuracy: 0.4263 - val_loss: 3.2703 - val_accuracy: 0.4043\n",
      "Epoch 44/100\n",
      "387/387 [==============================] - 0s 1ms/step - loss: 3.1029 - accuracy: 0.4262 - val_loss: 2.1584 - val_accuracy: 0.4556\n",
      "Epoch 45/100\n",
      "387/387 [==============================] - 0s 1ms/step - loss: 2.7064 - accuracy: 0.4378 - val_loss: 3.7488 - val_accuracy: 0.4541\n",
      "Epoch 46/100\n",
      "387/387 [==============================] - 0s 1ms/step - loss: 3.4658 - accuracy: 0.4363 - val_loss: 2.9659 - val_accuracy: 0.4003\n",
      "Epoch 47/100\n",
      "387/387 [==============================] - 0s 1ms/step - loss: 2.4103 - accuracy: 0.4237 - val_loss: 2.9954 - val_accuracy: 0.3770\n",
      "Epoch 48/100\n",
      "387/387 [==============================] - 0s 1ms/step - loss: 2.5820 - accuracy: 0.4405 - val_loss: 2.6836 - val_accuracy: 0.4683\n",
      "Epoch 49/100\n",
      "387/387 [==============================] - 0s 1ms/step - loss: 2.1358 - accuracy: 0.4379 - val_loss: 3.2551 - val_accuracy: 0.4738\n",
      "Epoch 50/100\n",
      "387/387 [==============================] - 0s 1ms/step - loss: 2.4158 - accuracy: 0.4433 - val_loss: 2.4411 - val_accuracy: 0.4196\n",
      "Epoch 51/100\n",
      "387/387 [==============================] - 0s 1ms/step - loss: 2.0976 - accuracy: 0.4384 - val_loss: 1.9927 - val_accuracy: 0.4662\n",
      "Epoch 52/100\n",
      "387/387 [==============================] - 0s 1ms/step - loss: 2.0629 - accuracy: 0.4467 - val_loss: 3.0191 - val_accuracy: 0.4640\n",
      "Epoch 53/100\n",
      "387/387 [==============================] - 0s 1ms/step - loss: 2.5624 - accuracy: 0.4373 - val_loss: 3.4408 - val_accuracy: 0.4098\n",
      "Epoch 54/100\n",
      "387/387 [==============================] - 0s 1ms/step - loss: 2.2244 - accuracy: 0.4405 - val_loss: 2.8654 - val_accuracy: 0.4632\n",
      "Epoch 55/100\n",
      "387/387 [==============================] - 0s 1ms/step - loss: 2.3060 - accuracy: 0.4432 - val_loss: 2.7638 - val_accuracy: 0.3967\n",
      "Epoch 56/100\n",
      "387/387 [==============================] - 0s 1ms/step - loss: 2.1569 - accuracy: 0.4413 - val_loss: 1.8095 - val_accuracy: 0.4563\n",
      "Epoch 57/100\n",
      "387/387 [==============================] - 0s 1ms/step - loss: 1.9259 - accuracy: 0.4485 - val_loss: 2.0039 - val_accuracy: 0.4476\n",
      "Epoch 58/100\n",
      "387/387 [==============================] - 1s 1ms/step - loss: 1.8264 - accuracy: 0.4436 - val_loss: 2.9677 - val_accuracy: 0.4625\n",
      "Epoch 59/100\n",
      "387/387 [==============================] - 1s 2ms/step - loss: 2.1199 - accuracy: 0.4615 - val_loss: 1.6190 - val_accuracy: 0.4702\n",
      "Epoch 60/100\n",
      "387/387 [==============================] - 1s 1ms/step - loss: 1.7918 - accuracy: 0.4600 - val_loss: 2.1288 - val_accuracy: 0.4720\n",
      "Epoch 61/100\n",
      "387/387 [==============================] - 0s 1ms/step - loss: 1.9472 - accuracy: 0.4590 - val_loss: 1.6067 - val_accuracy: 0.4800\n",
      "Epoch 62/100\n",
      "387/387 [==============================] - 0s 1ms/step - loss: 1.5863 - accuracy: 0.4614 - val_loss: 1.4980 - val_accuracy: 0.4702\n",
      "Epoch 63/100\n",
      "387/387 [==============================] - 0s 1ms/step - loss: 1.5518 - accuracy: 0.4601 - val_loss: 1.6227 - val_accuracy: 0.4763\n",
      "Epoch 64/100\n",
      "387/387 [==============================] - 0s 1ms/step - loss: 1.5970 - accuracy: 0.4602 - val_loss: 1.6383 - val_accuracy: 0.4803\n",
      "Epoch 65/100\n",
      "387/387 [==============================] - 0s 1ms/step - loss: 1.5864 - accuracy: 0.4628 - val_loss: 1.6120 - val_accuracy: 0.4469\n",
      "Epoch 66/100\n",
      "387/387 [==============================] - 0s 1ms/step - loss: 1.6437 - accuracy: 0.4521 - val_loss: 1.5070 - val_accuracy: 0.4665\n",
      "Epoch 67/100\n",
      "387/387 [==============================] - 0s 1ms/step - loss: 1.5974 - accuracy: 0.4536 - val_loss: 1.9040 - val_accuracy: 0.4676\n",
      "Epoch 68/100\n",
      "387/387 [==============================] - 0s 1ms/step - loss: 1.5712 - accuracy: 0.4592 - val_loss: 1.6423 - val_accuracy: 0.4596\n",
      "Epoch 69/100\n",
      "387/387 [==============================] - 0s 1ms/step - loss: 1.7382 - accuracy: 0.4558 - val_loss: 1.8219 - val_accuracy: 0.4582\n",
      "Epoch 70/100\n",
      "387/387 [==============================] - 0s 1ms/step - loss: 1.6995 - accuracy: 0.4581 - val_loss: 1.4436 - val_accuracy: 0.4731\n",
      "Epoch 71/100\n",
      "387/387 [==============================] - 1s 1ms/step - loss: 1.4629 - accuracy: 0.4699 - val_loss: 1.6104 - val_accuracy: 0.4753\n",
      "Epoch 72/100\n",
      "387/387 [==============================] - 0s 1ms/step - loss: 1.4841 - accuracy: 0.4684 - val_loss: 1.5553 - val_accuracy: 0.4640\n",
      "Epoch 73/100\n",
      "387/387 [==============================] - 1s 1ms/step - loss: 1.4937 - accuracy: 0.4640 - val_loss: 1.4209 - val_accuracy: 0.4647\n",
      "Epoch 74/100\n",
      "387/387 [==============================] - 0s 1ms/step - loss: 1.4887 - accuracy: 0.4662 - val_loss: 1.4320 - val_accuracy: 0.4745\n",
      "Epoch 75/100\n",
      "387/387 [==============================] - 1s 1ms/step - loss: 1.4060 - accuracy: 0.4680 - val_loss: 1.5189 - val_accuracy: 0.4713\n",
      "Epoch 76/100\n",
      "387/387 [==============================] - 0s 1ms/step - loss: 1.4629 - accuracy: 0.4638 - val_loss: 1.3874 - val_accuracy: 0.4731\n",
      "Epoch 77/100\n",
      "387/387 [==============================] - 0s 1ms/step - loss: 1.3659 - accuracy: 0.4728 - val_loss: 1.4269 - val_accuracy: 0.4723\n",
      "Epoch 78/100\n",
      "387/387 [==============================] - 1s 1ms/step - loss: 1.3849 - accuracy: 0.4727 - val_loss: 1.3710 - val_accuracy: 0.4785\n",
      "Epoch 79/100\n",
      "387/387 [==============================] - 0s 1ms/step - loss: 1.3775 - accuracy: 0.4738 - val_loss: 1.3547 - val_accuracy: 0.4672\n",
      "Epoch 80/100\n",
      "387/387 [==============================] - 0s 1ms/step - loss: 1.3899 - accuracy: 0.4658 - val_loss: 1.4305 - val_accuracy: 0.4392\n",
      "Epoch 81/100\n",
      "387/387 [==============================] - 0s 1ms/step - loss: 1.4130 - accuracy: 0.4513 - val_loss: 1.4851 - val_accuracy: 0.4356\n",
      "Epoch 82/100\n",
      "387/387 [==============================] - 0s 1ms/step - loss: 1.4274 - accuracy: 0.4429 - val_loss: 1.3969 - val_accuracy: 0.4469\n",
      "Epoch 83/100\n",
      "387/387 [==============================] - 0s 1ms/step - loss: 1.3888 - accuracy: 0.4478 - val_loss: 1.3898 - val_accuracy: 0.4465\n",
      "Epoch 84/100\n",
      "387/387 [==============================] - 0s 1ms/step - loss: 1.3637 - accuracy: 0.4547 - val_loss: 1.3851 - val_accuracy: 0.4563\n",
      "Epoch 85/100\n",
      "387/387 [==============================] - 0s 1ms/step - loss: 1.3539 - accuracy: 0.4710 - val_loss: 1.3789 - val_accuracy: 0.4713\n",
      "Epoch 86/100\n",
      "387/387 [==============================] - 0s 1ms/step - loss: 1.3906 - accuracy: 0.4648 - val_loss: 1.3623 - val_accuracy: 0.4461\n",
      "Epoch 87/100\n",
      "387/387 [==============================] - 1s 1ms/step - loss: 1.3537 - accuracy: 0.4686 - val_loss: 1.3730 - val_accuracy: 0.4534\n",
      "Epoch 88/100\n",
      "387/387 [==============================] - 0s 1ms/step - loss: 1.3536 - accuracy: 0.4693 - val_loss: 1.3663 - val_accuracy: 0.4654\n",
      "Epoch 89/100\n",
      "387/387 [==============================] - 0s 1ms/step - loss: 1.3570 - accuracy: 0.4670 - val_loss: 1.3582 - val_accuracy: 0.4713\n",
      "Epoch 90/100\n",
      "387/387 [==============================] - 1s 1ms/step - loss: 1.3555 - accuracy: 0.4712 - val_loss: 1.3651 - val_accuracy: 0.4662\n",
      "Epoch 91/100\n",
      "387/387 [==============================] - 0s 1ms/step - loss: 1.3631 - accuracy: 0.4712 - val_loss: 1.3541 - val_accuracy: 0.4734\n",
      "Epoch 92/100\n",
      "387/387 [==============================] - 0s 1ms/step - loss: 1.3705 - accuracy: 0.4638 - val_loss: 1.4255 - val_accuracy: 0.4265\n",
      "Epoch 93/100\n",
      "387/387 [==============================] - 0s 1ms/step - loss: 1.4104 - accuracy: 0.4389 - val_loss: 1.4507 - val_accuracy: 0.4279\n",
      "Epoch 94/100\n",
      "387/387 [==============================] - 0s 1ms/step - loss: 1.4086 - accuracy: 0.4311 - val_loss: 1.3952 - val_accuracy: 0.4305\n",
      "Epoch 95/100\n",
      "387/387 [==============================] - 0s 1ms/step - loss: 1.3904 - accuracy: 0.4412 - val_loss: 1.4012 - val_accuracy: 0.4363\n",
      "Epoch 96/100\n",
      "387/387 [==============================] - 0s 1ms/step - loss: 1.4033 - accuracy: 0.4381 - val_loss: 1.3872 - val_accuracy: 0.4421\n",
      "Epoch 97/100\n",
      "387/387 [==============================] - 0s 1ms/step - loss: 1.3778 - accuracy: 0.4500 - val_loss: 1.3886 - val_accuracy: 0.4541\n",
      "Epoch 98/100\n",
      "387/387 [==============================] - 0s 1ms/step - loss: 1.3832 - accuracy: 0.4523 - val_loss: 1.3774 - val_accuracy: 0.4541\n",
      "Epoch 99/100\n",
      "387/387 [==============================] - 0s 1ms/step - loss: 1.3823 - accuracy: 0.4559 - val_loss: 1.3757 - val_accuracy: 0.4523\n",
      "Epoch 100/100\n",
      "387/387 [==============================] - 0s 1ms/step - loss: 1.3889 - accuracy: 0.4602 - val_loss: 1.3827 - val_accuracy: 0.4614\n"
     ]
    },
    {
     "output_type": "execute_result",
     "data": {
      "text/plain": [
       "<keras.callbacks.History at 0x23bff57b808>"
      ]
     },
     "metadata": {},
     "execution_count": 87
    }
   ],
   "source": [
    "model.fit(X_train, y_train, validation_data=(X_test, y_test), epochs=100, batch_size=64, verbose=1)"
   ]
  },
  {
   "cell_type": "code",
   "execution_count": null,
   "metadata": {},
   "outputs": [],
   "source": [
    "# test model\n",
    "test_data = {\n",
    "    'fire_size': [37.0],\n",
    "    'remoteness': [0.191923],\n",
    "    'putout_time': [0]\t\n",
    "}\n",
    "test_data = pd.DataFrame(test_data)\n",
    "test_data"
   ]
  },
  {
   "cell_type": "code",
   "execution_count": null,
   "metadata": {},
   "outputs": [],
   "source": [
    "result = model.predict(test_data)\n",
    "result"
   ]
  },
  {
   "cell_type": "code",
   "execution_count": null,
   "metadata": {},
   "outputs": [],
   "source": [
    "# find class\n",
    "final = 0\n",
    "for i in range(6):\n",
    "    if (result[0][i] > final):\n",
    "        final = result[0][i]\n",
    "    # print(final)\n",
    "final = np.where(result[0] == final)\n",
    "print(final[0][0])\n",
    "    "
   ]
  },
  {
   "cell_type": "code",
   "execution_count": null,
   "metadata": {},
   "outputs": [],
   "source": [
    "# save model\n",
    "model.save(\"../Weights/cause.h5\")"
   ]
  },
  {
   "cell_type": "code",
   "execution_count": null,
   "metadata": {},
   "outputs": [],
   "source": [
    "# add cause to predicted fires dataset\n",
    "predicted_data = pd.read_csv('../data/PredictedData.csv')"
   ]
  },
  {
   "cell_type": "code",
   "execution_count": null,
   "metadata": {},
   "outputs": [],
   "source": [
    "predicted_data = predicted_data.dropna()\n",
    "predicted_data['putout_time'] = predicted_data['putout_time'].str.split(' ').str[0]\n",
    "test_data = predicted_data[['fire_size', 'remoteness', 'putout_time']].astype('float')\n",
    "results = model.predict(test_data)"
   ]
  },
  {
   "source": [
    "**XGBoost Classifier**"
   ],
   "cell_type": "markdown",
   "metadata": {}
  },
  {
   "cell_type": "code",
   "execution_count": null,
   "metadata": {},
   "outputs": [],
   "source": [
    "from xgboost import XGBClassifier\n",
    "from sklearn.metrics import accuracy_score"
   ]
  },
  {
   "cell_type": "code",
   "execution_count": null,
   "metadata": {},
   "outputs": [],
   "source": [
    "xgb_model = XGBClassifier(\n",
    "        silent=False, \n",
    "        scale_pos_weight=1,\n",
    "        learning_rate=0.01,  \n",
    "        colsample_bytree = 1,\n",
    "        subsample = 0.8,\n",
    "        objective='multi:softprob', \n",
    "        n_estimators=1000, \n",
    "        reg_alpha = 0.3,\n",
    "        max_depth=5, \n",
    "        gamma=1)\n",
    "xgb_model.fit(X_train, y_train)"
   ]
  },
  {
   "cell_type": "code",
   "execution_count": null,
   "metadata": {},
   "outputs": [],
   "source": [
    "y_pred = xgb_model.predict(X_test)\n",
    "predictions = [round(value) for value in y_pred]"
   ]
  },
  {
   "cell_type": "code",
   "execution_count": null,
   "metadata": {},
   "outputs": [],
   "source": [
    "accuracy = round(accuracy_score(y_test, predictions), 2)\n",
    "accuracy"
   ]
  },
  {
   "cell_type": "code",
   "execution_count": null,
   "metadata": {},
   "outputs": [],
   "source": [
    "result = xgb_model.predict(test_data)\n",
    "result[0]"
   ]
  },
  {
   "cell_type": "code",
   "execution_count": null,
   "metadata": {},
   "outputs": [],
   "source": [
    "print(X_test.tail())\n",
    "print(y_test.tail())"
   ]
  },
  {
   "cell_type": "code",
   "execution_count": null,
   "metadata": {},
   "outputs": [],
   "source": [
    "# test model\n",
    "test_data1 = {\n",
    "    'fire_size': [5.0],\n",
    "    'remoteness': [0.250806],\n",
    "    'putout_time': [2.0]\t\n",
    "}\n",
    "test_data1 = pd.DataFrame(test_data1)\n",
    "test_data1"
   ]
  },
  {
   "cell_type": "code",
   "execution_count": null,
   "metadata": {},
   "outputs": [],
   "source": [
    "result1 = xgb_model.predict(test_data1)\n",
    "result1[0].astype('int')"
   ]
  }
 ]
}