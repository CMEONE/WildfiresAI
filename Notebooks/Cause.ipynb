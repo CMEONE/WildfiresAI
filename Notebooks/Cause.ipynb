{
 "metadata": {
  "language_info": {
   "codemirror_mode": {
    "name": "ipython",
    "version": 3
   },
   "file_extension": ".py",
   "mimetype": "text/x-python",
   "name": "python",
   "nbconvert_exporter": "python",
   "pygments_lexer": "ipython3",
   "version": "3.7.9"
  },
  "orig_nbformat": 4,
  "kernelspec": {
   "name": "python3",
   "display_name": "Python 3.7.9 64-bit"
  },
  "interpreter": {
   "hash": "7f8c79caef6f500d10f1d53b5233fd35aa3fbbd3a39d10048919692e9c705d27"
  }
 },
 "nbformat": 4,
 "nbformat_minor": 2,
 "cells": [
  {
   "source": [
    "**Imports**"
   ],
   "cell_type": "markdown",
   "metadata": {}
  },
  {
   "cell_type": "code",
   "execution_count": 22,
   "metadata": {},
   "outputs": [],
   "source": [
    "import pandas as pd\n",
    "import numpy as np\n",
    "from keras.models import Sequential\n",
    "from keras.layers import Dense"
   ]
  },
  {
   "source": [
    "**Pre-Processing**"
   ],
   "cell_type": "markdown",
   "metadata": {}
  },
  {
   "cell_type": "code",
   "execution_count": 24,
   "metadata": {},
   "outputs": [
    {
     "output_type": "execute_result",
     "data": {
      "text/plain": [
       "   Unnamed: 0  Unnamed: 0.1 fire_name  fire_size fire_size_class  \\\n",
       "0           0             0       NaN       10.0               C   \n",
       "1           1             1       NaN        3.0               B   \n",
       "2           2             2       NaN       60.0               C   \n",
       "3           3             3    WNA  1        1.0               B   \n",
       "4           4             4       NaN        2.0               B   \n",
       "\n",
       "    stat_cause_descr   latitude   longitude state disc_clean_date  ...  \\\n",
       "0  Missing/Undefined  18.105072  -66.753044    PR       2/11/2007  ...   \n",
       "1              Arson  35.038330  -87.610000    TN      12/11/2006  ...   \n",
       "2              Arson  34.947800  -88.722500    MS       2/29/2004  ...   \n",
       "3     Debris Burning  39.641400 -119.308300    NV        6/6/2005  ...   \n",
       "4      Miscellaneous  30.700600  -90.591400    LA       9/22/1999  ...   \n",
       "\n",
       "  Wind_cont Hum_pre_30 Hum_pre_15  Hum_pre_7   Hum_cont Prec_pre_30  \\\n",
       "0  3.250413  78.216590  76.793750  76.381579  78.724370         0.0   \n",
       "1  2.122320  70.840000  65.858911  55.505882  81.682678        59.8   \n",
       "2  3.369050  75.531629  75.868613  76.812834  65.063800       168.8   \n",
       "3  0.000000  44.778429  37.140811  35.353846   0.000000        10.4   \n",
       "4 -1.000000  -1.000000  -1.000000  -1.000000  -1.000000        -1.0   \n",
       "\n",
       "   Prec_pre_15 Prec_pre_7 Prec_cont  remoteness  \n",
       "0          0.0        0.0       0.0    0.017923  \n",
       "1          8.4        0.0      86.8    0.184355  \n",
       "2         42.2       18.1     124.5    0.194544  \n",
       "3          7.2        0.0       0.0    0.487447  \n",
       "4         -1.0       -1.0      -1.0    0.214633  \n",
       "\n",
       "[5 rows x 43 columns]"
      ],
      "text/html": "<div>\n<style scoped>\n    .dataframe tbody tr th:only-of-type {\n        vertical-align: middle;\n    }\n\n    .dataframe tbody tr th {\n        vertical-align: top;\n    }\n\n    .dataframe thead th {\n        text-align: right;\n    }\n</style>\n<table border=\"1\" class=\"dataframe\">\n  <thead>\n    <tr style=\"text-align: right;\">\n      <th></th>\n      <th>Unnamed: 0</th>\n      <th>Unnamed: 0.1</th>\n      <th>fire_name</th>\n      <th>fire_size</th>\n      <th>fire_size_class</th>\n      <th>stat_cause_descr</th>\n      <th>latitude</th>\n      <th>longitude</th>\n      <th>state</th>\n      <th>disc_clean_date</th>\n      <th>...</th>\n      <th>Wind_cont</th>\n      <th>Hum_pre_30</th>\n      <th>Hum_pre_15</th>\n      <th>Hum_pre_7</th>\n      <th>Hum_cont</th>\n      <th>Prec_pre_30</th>\n      <th>Prec_pre_15</th>\n      <th>Prec_pre_7</th>\n      <th>Prec_cont</th>\n      <th>remoteness</th>\n    </tr>\n  </thead>\n  <tbody>\n    <tr>\n      <th>0</th>\n      <td>0</td>\n      <td>0</td>\n      <td>NaN</td>\n      <td>10.0</td>\n      <td>C</td>\n      <td>Missing/Undefined</td>\n      <td>18.105072</td>\n      <td>-66.753044</td>\n      <td>PR</td>\n      <td>2/11/2007</td>\n      <td>...</td>\n      <td>3.250413</td>\n      <td>78.216590</td>\n      <td>76.793750</td>\n      <td>76.381579</td>\n      <td>78.724370</td>\n      <td>0.0</td>\n      <td>0.0</td>\n      <td>0.0</td>\n      <td>0.0</td>\n      <td>0.017923</td>\n    </tr>\n    <tr>\n      <th>1</th>\n      <td>1</td>\n      <td>1</td>\n      <td>NaN</td>\n      <td>3.0</td>\n      <td>B</td>\n      <td>Arson</td>\n      <td>35.038330</td>\n      <td>-87.610000</td>\n      <td>TN</td>\n      <td>12/11/2006</td>\n      <td>...</td>\n      <td>2.122320</td>\n      <td>70.840000</td>\n      <td>65.858911</td>\n      <td>55.505882</td>\n      <td>81.682678</td>\n      <td>59.8</td>\n      <td>8.4</td>\n      <td>0.0</td>\n      <td>86.8</td>\n      <td>0.184355</td>\n    </tr>\n    <tr>\n      <th>2</th>\n      <td>2</td>\n      <td>2</td>\n      <td>NaN</td>\n      <td>60.0</td>\n      <td>C</td>\n      <td>Arson</td>\n      <td>34.947800</td>\n      <td>-88.722500</td>\n      <td>MS</td>\n      <td>2/29/2004</td>\n      <td>...</td>\n      <td>3.369050</td>\n      <td>75.531629</td>\n      <td>75.868613</td>\n      <td>76.812834</td>\n      <td>65.063800</td>\n      <td>168.8</td>\n      <td>42.2</td>\n      <td>18.1</td>\n      <td>124.5</td>\n      <td>0.194544</td>\n    </tr>\n    <tr>\n      <th>3</th>\n      <td>3</td>\n      <td>3</td>\n      <td>WNA  1</td>\n      <td>1.0</td>\n      <td>B</td>\n      <td>Debris Burning</td>\n      <td>39.641400</td>\n      <td>-119.308300</td>\n      <td>NV</td>\n      <td>6/6/2005</td>\n      <td>...</td>\n      <td>0.000000</td>\n      <td>44.778429</td>\n      <td>37.140811</td>\n      <td>35.353846</td>\n      <td>0.000000</td>\n      <td>10.4</td>\n      <td>7.2</td>\n      <td>0.0</td>\n      <td>0.0</td>\n      <td>0.487447</td>\n    </tr>\n    <tr>\n      <th>4</th>\n      <td>4</td>\n      <td>4</td>\n      <td>NaN</td>\n      <td>2.0</td>\n      <td>B</td>\n      <td>Miscellaneous</td>\n      <td>30.700600</td>\n      <td>-90.591400</td>\n      <td>LA</td>\n      <td>9/22/1999</td>\n      <td>...</td>\n      <td>-1.000000</td>\n      <td>-1.000000</td>\n      <td>-1.000000</td>\n      <td>-1.000000</td>\n      <td>-1.000000</td>\n      <td>-1.0</td>\n      <td>-1.0</td>\n      <td>-1.0</td>\n      <td>-1.0</td>\n      <td>0.214633</td>\n    </tr>\n  </tbody>\n</table>\n<p>5 rows × 43 columns</p>\n</div>"
     },
     "metadata": {},
     "execution_count": 24
    }
   ],
   "source": [
    "data = pd.read_csv('../data/WildfireData.csv')\n",
    "data.head()"
   ]
  },
  {
   "cell_type": "code",
   "execution_count": 25,
   "metadata": {},
   "outputs": [
    {
     "output_type": "execute_result",
     "data": {
      "text/plain": [
       "   fire_size  remoteness                putout_time   stat_cause_descr\n",
       "0       10.0    0.017923                        NaN  Missing/Undefined\n",
       "1        3.0    0.184355                        NaN              Arson\n",
       "2       60.0    0.194544                        NaN              Arson\n",
       "3        1.0    0.487447  0 days 00:00:00.000000000     Debris Burning\n",
       "4        2.0    0.214633                        NaN      Miscellaneous"
      ],
      "text/html": "<div>\n<style scoped>\n    .dataframe tbody tr th:only-of-type {\n        vertical-align: middle;\n    }\n\n    .dataframe tbody tr th {\n        vertical-align: top;\n    }\n\n    .dataframe thead th {\n        text-align: right;\n    }\n</style>\n<table border=\"1\" class=\"dataframe\">\n  <thead>\n    <tr style=\"text-align: right;\">\n      <th></th>\n      <th>fire_size</th>\n      <th>remoteness</th>\n      <th>putout_time</th>\n      <th>stat_cause_descr</th>\n    </tr>\n  </thead>\n  <tbody>\n    <tr>\n      <th>0</th>\n      <td>10.0</td>\n      <td>0.017923</td>\n      <td>NaN</td>\n      <td>Missing/Undefined</td>\n    </tr>\n    <tr>\n      <th>1</th>\n      <td>3.0</td>\n      <td>0.184355</td>\n      <td>NaN</td>\n      <td>Arson</td>\n    </tr>\n    <tr>\n      <th>2</th>\n      <td>60.0</td>\n      <td>0.194544</td>\n      <td>NaN</td>\n      <td>Arson</td>\n    </tr>\n    <tr>\n      <th>3</th>\n      <td>1.0</td>\n      <td>0.487447</td>\n      <td>0 days 00:00:00.000000000</td>\n      <td>Debris Burning</td>\n    </tr>\n    <tr>\n      <th>4</th>\n      <td>2.0</td>\n      <td>0.214633</td>\n      <td>NaN</td>\n      <td>Miscellaneous</td>\n    </tr>\n  </tbody>\n</table>\n</div>"
     },
     "metadata": {},
     "execution_count": 25
    }
   ],
   "source": [
    "data = data[['fire_size', 'remoteness', 'putout_time', 'stat_cause_descr']]\n",
    "data.head()"
   ]
  },
  {
   "cell_type": "code",
   "execution_count": 26,
   "metadata": {},
   "outputs": [
    {
     "output_type": "execute_result",
     "data": {
      "text/plain": [
       "    fire_size  remoteness putout_time   stat_cause_descr\n",
       "3         1.0    0.487447           0     Debris Burning\n",
       "9         1.0    0.291683           0      Miscellaneous\n",
       "11       37.0    0.191923           0              Arson\n",
       "14        3.0    0.123518           0  Missing/Undefined\n",
       "22        2.0    0.054988           0      Miscellaneous"
      ],
      "text/html": "<div>\n<style scoped>\n    .dataframe tbody tr th:only-of-type {\n        vertical-align: middle;\n    }\n\n    .dataframe tbody tr th {\n        vertical-align: top;\n    }\n\n    .dataframe thead th {\n        text-align: right;\n    }\n</style>\n<table border=\"1\" class=\"dataframe\">\n  <thead>\n    <tr style=\"text-align: right;\">\n      <th></th>\n      <th>fire_size</th>\n      <th>remoteness</th>\n      <th>putout_time</th>\n      <th>stat_cause_descr</th>\n    </tr>\n  </thead>\n  <tbody>\n    <tr>\n      <th>3</th>\n      <td>1.0</td>\n      <td>0.487447</td>\n      <td>0</td>\n      <td>Debris Burning</td>\n    </tr>\n    <tr>\n      <th>9</th>\n      <td>1.0</td>\n      <td>0.291683</td>\n      <td>0</td>\n      <td>Miscellaneous</td>\n    </tr>\n    <tr>\n      <th>11</th>\n      <td>37.0</td>\n      <td>0.191923</td>\n      <td>0</td>\n      <td>Arson</td>\n    </tr>\n    <tr>\n      <th>14</th>\n      <td>3.0</td>\n      <td>0.123518</td>\n      <td>0</td>\n      <td>Missing/Undefined</td>\n    </tr>\n    <tr>\n      <th>22</th>\n      <td>2.0</td>\n      <td>0.054988</td>\n      <td>0</td>\n      <td>Miscellaneous</td>\n    </tr>\n  </tbody>\n</table>\n</div>"
     },
     "metadata": {},
     "execution_count": 26
    }
   ],
   "source": [
    "data = data.dropna()\n",
    "data['putout_time'] = data['putout_time'].str.split(' ').str[0]\n",
    "data.head()"
   ]
  },
  {
   "cell_type": "code",
   "execution_count": 27,
   "metadata": {},
   "outputs": [
    {
     "output_type": "execute_result",
     "data": {
      "text/plain": [
       "array(['Debris Burning', 'Miscellaneous', 'Arson', 'Missing/Undefined',\n",
       "       'Lightning', 'Equipment Use', 'Campfire', 'Structure', 'Children',\n",
       "       'Smoking', 'Powerline', 'Railroad', 'Fireworks'], dtype=object)"
      ]
     },
     "metadata": {},
     "execution_count": 27
    }
   ],
   "source": [
    "data.stat_cause_descr.unique()"
   ]
  },
  {
   "cell_type": "code",
   "execution_count": 28,
   "metadata": {},
   "outputs": [
    {
     "output_type": "execute_result",
     "data": {
      "text/plain": [
       "    fire_size  remoteness putout_time  stat_cause_descr\n",
       "3         1.0    0.487447           0                 0\n",
       "9         1.0    0.291683           0                 5\n",
       "11       37.0    0.191923           0                 1\n",
       "14        3.0    0.123518           0                 5\n",
       "22        2.0    0.054988           0                 5"
      ],
      "text/html": "<div>\n<style scoped>\n    .dataframe tbody tr th:only-of-type {\n        vertical-align: middle;\n    }\n\n    .dataframe tbody tr th {\n        vertical-align: top;\n    }\n\n    .dataframe thead th {\n        text-align: right;\n    }\n</style>\n<table border=\"1\" class=\"dataframe\">\n  <thead>\n    <tr style=\"text-align: right;\">\n      <th></th>\n      <th>fire_size</th>\n      <th>remoteness</th>\n      <th>putout_time</th>\n      <th>stat_cause_descr</th>\n    </tr>\n  </thead>\n  <tbody>\n    <tr>\n      <th>3</th>\n      <td>1.0</td>\n      <td>0.487447</td>\n      <td>0</td>\n      <td>0</td>\n    </tr>\n    <tr>\n      <th>9</th>\n      <td>1.0</td>\n      <td>0.291683</td>\n      <td>0</td>\n      <td>5</td>\n    </tr>\n    <tr>\n      <th>11</th>\n      <td>37.0</td>\n      <td>0.191923</td>\n      <td>0</td>\n      <td>1</td>\n    </tr>\n    <tr>\n      <th>14</th>\n      <td>3.0</td>\n      <td>0.123518</td>\n      <td>0</td>\n      <td>5</td>\n    </tr>\n    <tr>\n      <th>22</th>\n      <td>2.0</td>\n      <td>0.054988</td>\n      <td>0</td>\n      <td>5</td>\n    </tr>\n  </tbody>\n</table>\n</div>"
     },
     "metadata": {},
     "execution_count": 28
    }
   ],
   "source": [
    "data['stat_cause_descr'] = data['stat_cause_descr'].map({\n",
    "    'Debris Burning': 0,\n",
    "    'Arson': 1,\n",
    "    'Lightning': 2,\n",
    "    'Equipment Use': 3,\n",
    "    'Campfire': 4,\n",
    "    'Structure': 5,\n",
    "    'Children': 5,\n",
    "    'Smoking': 5,\n",
    "    'Powerline': 5,\n",
    "    'Railroad': 5,\n",
    "    'Fireworks': 5,\n",
    "    'Missing/Undefined': 5,\n",
    "    'Miscellaneous': 5\n",
    "})\n",
    "data.stat_cause_descr.unique()\n",
    "data.head()"
   ]
  },
  {
   "cell_type": "code",
   "execution_count": 29,
   "metadata": {},
   "outputs": [
    {
     "output_type": "stream",
     "name": "stdout",
     "text": [
      "    fire_size  remoteness  putout_time\n3         1.0    0.487447          0.0\n9         1.0    0.291683          0.0\n11       37.0    0.191923          0.0\n14        3.0    0.123518          0.0\n22        2.0    0.054988          0.0\n3     0.0\n9     5.0\n11    1.0\n14    5.0\n22    5.0\nName: stat_cause_descr, dtype: float64\n"
     ]
    }
   ],
   "source": [
    "from sklearn.model_selection import train_test_split\n",
    "X = data.drop('stat_cause_descr', axis=1).astype('float')\n",
    "y = data.stat_cause_descr.astype('float')\n",
    "print(X.head())\n",
    "print(y.head())\n",
    "X_train, X_test, y_train, y_test = train_test_split(X, y, test_size=0.1)"
   ]
  },
  {
   "cell_type": "code",
   "execution_count": 30,
   "metadata": {},
   "outputs": [],
   "source": [
    "from tensorflow.keras.utils import to_categorical\n",
    "y_train = to_categorical(y_train)\n",
    "y_test = to_categorical(y_test)"
   ]
  },
  {
   "cell_type": "code",
   "execution_count": 31,
   "metadata": {},
   "outputs": [
    {
     "output_type": "execute_result",
     "data": {
      "text/plain": [
       "array([0., 0., 0., 0., 0., 1.], dtype=float32)"
      ]
     },
     "metadata": {},
     "execution_count": 31
    }
   ],
   "source": [
    " y_test[0]"
   ]
  },
  {
   "source": [
    "**Model**"
   ],
   "cell_type": "markdown",
   "metadata": {}
  },
  {
   "cell_type": "code",
   "execution_count": 32,
   "metadata": {},
   "outputs": [],
   "source": [
    "model = Sequential()\n",
    "model.add(Dense(32, input_dim=(3), activation='relu'))\n",
    "model.add(Dense(16, activation='relu'))\n",
    "model.add(Dense(8, activation='relu'))\n",
    "model.add(Dense(6, activation='softmax'))"
   ]
  },
  {
   "cell_type": "code",
   "execution_count": 33,
   "metadata": {},
   "outputs": [],
   "source": [
    "model.compile(loss='categorical_crossentropy', optimizer='adam', metrics=['accuracy'])"
   ]
  },
  {
   "cell_type": "code",
   "execution_count": 34,
   "metadata": {},
   "outputs": [
    {
     "output_type": "stream",
     "name": "stdout",
     "text": [
      "Epoch 1/100\n",
      "387/387 [==============================] - 2s 2ms/step - loss: 117.5789 - accuracy: 0.2675 - val_loss: 3.6883 - val_accuracy: 0.3759\n",
      "Epoch 2/100\n",
      "387/387 [==============================] - 0s 1ms/step - loss: 6.7753 - accuracy: 0.3594 - val_loss: 6.7817 - val_accuracy: 0.3817\n",
      "Epoch 3/100\n",
      "387/387 [==============================] - 0s 1ms/step - loss: 7.0299 - accuracy: 0.3665 - val_loss: 3.6930 - val_accuracy: 0.3242\n",
      "Epoch 4/100\n",
      "387/387 [==============================] - 0s 1ms/step - loss: 7.0021 - accuracy: 0.3700 - val_loss: 1.9069 - val_accuracy: 0.3719\n",
      "Epoch 5/100\n",
      "387/387 [==============================] - 0s 1ms/step - loss: 3.8940 - accuracy: 0.3617 - val_loss: 5.1894 - val_accuracy: 0.3857\n",
      "Epoch 6/100\n",
      "387/387 [==============================] - 0s 1ms/step - loss: 4.0716 - accuracy: 0.3702 - val_loss: 6.1473 - val_accuracy: 0.3861\n",
      "Epoch 7/100\n",
      "387/387 [==============================] - 0s 1ms/step - loss: 6.4513 - accuracy: 0.3831 - val_loss: 3.4172 - val_accuracy: 0.3956\n",
      "Epoch 8/100\n",
      "387/387 [==============================] - 0s 1ms/step - loss: 6.7017 - accuracy: 0.3792 - val_loss: 12.6611 - val_accuracy: 0.3923\n",
      "Epoch 9/100\n",
      "387/387 [==============================] - 0s 1ms/step - loss: 5.9574 - accuracy: 0.3853 - val_loss: 2.8613 - val_accuracy: 0.4003\n",
      "Epoch 10/100\n",
      "387/387 [==============================] - 0s 1ms/step - loss: 4.3059 - accuracy: 0.3798 - val_loss: 4.0484 - val_accuracy: 0.4065\n",
      "Epoch 11/100\n",
      "387/387 [==============================] - 0s 1ms/step - loss: 4.5171 - accuracy: 0.3875 - val_loss: 5.3890 - val_accuracy: 0.3475\n",
      "Epoch 12/100\n",
      "387/387 [==============================] - 0s 1ms/step - loss: 3.7761 - accuracy: 0.3877 - val_loss: 1.9587 - val_accuracy: 0.3552\n",
      "Epoch 13/100\n",
      "387/387 [==============================] - 0s 1ms/step - loss: 2.9343 - accuracy: 0.3902 - val_loss: 2.7909 - val_accuracy: 0.4116\n",
      "Epoch 14/100\n",
      "387/387 [==============================] - 0s 1ms/step - loss: 2.6008 - accuracy: 0.3743 - val_loss: 2.5365 - val_accuracy: 0.4043\n",
      "Epoch 15/100\n",
      "387/387 [==============================] - 0s 1ms/step - loss: 3.3543 - accuracy: 0.3803 - val_loss: 1.6257 - val_accuracy: 0.3970\n",
      "Epoch 16/100\n",
      "387/387 [==============================] - 0s 1ms/step - loss: 2.4756 - accuracy: 0.3876 - val_loss: 1.8732 - val_accuracy: 0.3734\n",
      "Epoch 17/100\n",
      "387/387 [==============================] - 0s 1ms/step - loss: 3.5420 - accuracy: 0.3807 - val_loss: 2.1913 - val_accuracy: 0.3570\n",
      "Epoch 18/100\n",
      "387/387 [==============================] - 0s 1ms/step - loss: 2.6515 - accuracy: 0.3875 - val_loss: 2.4130 - val_accuracy: 0.4170\n",
      "Epoch 19/100\n",
      "387/387 [==============================] - 0s 1ms/step - loss: 2.3768 - accuracy: 0.4007 - val_loss: 1.8775 - val_accuracy: 0.3497\n",
      "Epoch 20/100\n",
      "387/387 [==============================] - 0s 1ms/step - loss: 2.7932 - accuracy: 0.3917 - val_loss: 3.8126 - val_accuracy: 0.3912\n",
      "Epoch 21/100\n",
      "387/387 [==============================] - 1s 1ms/step - loss: 2.5116 - accuracy: 0.3808 - val_loss: 1.7126 - val_accuracy: 0.4068\n",
      "Epoch 22/100\n",
      "387/387 [==============================] - 1s 1ms/step - loss: 2.7439 - accuracy: 0.3836 - val_loss: 1.7676 - val_accuracy: 0.4119\n",
      "Epoch 23/100\n",
      "387/387 [==============================] - 1s 2ms/step - loss: 1.9961 - accuracy: 0.3878 - val_loss: 2.4267 - val_accuracy: 0.4189\n",
      "Epoch 24/100\n",
      "387/387 [==============================] - 1s 2ms/step - loss: 1.8604 - accuracy: 0.4043 - val_loss: 2.3806 - val_accuracy: 0.3577\n",
      "Epoch 25/100\n",
      "387/387 [==============================] - 0s 1ms/step - loss: 1.7755 - accuracy: 0.4062 - val_loss: 1.5385 - val_accuracy: 0.4185\n",
      "Epoch 26/100\n",
      "387/387 [==============================] - 0s 1ms/step - loss: 2.1271 - accuracy: 0.4186 - val_loss: 1.4372 - val_accuracy: 0.4054\n",
      "Epoch 27/100\n",
      "387/387 [==============================] - 0s 1ms/step - loss: 1.7458 - accuracy: 0.4126 - val_loss: 1.5700 - val_accuracy: 0.4007\n",
      "Epoch 28/100\n",
      "387/387 [==============================] - 0s 1ms/step - loss: 1.9578 - accuracy: 0.4329 - val_loss: 1.9774 - val_accuracy: 0.4178\n",
      "Epoch 29/100\n",
      "387/387 [==============================] - 0s 1ms/step - loss: 2.1726 - accuracy: 0.4449 - val_loss: 2.1884 - val_accuracy: 0.4552\n",
      "Epoch 30/100\n",
      "387/387 [==============================] - 0s 1ms/step - loss: 1.6725 - accuracy: 0.4471 - val_loss: 1.4486 - val_accuracy: 0.4582\n",
      "Epoch 31/100\n",
      "387/387 [==============================] - 0s 1ms/step - loss: 1.5390 - accuracy: 0.4560 - val_loss: 3.2923 - val_accuracy: 0.3901\n",
      "Epoch 32/100\n",
      "387/387 [==============================] - 0s 1ms/step - loss: 1.7069 - accuracy: 0.4550 - val_loss: 1.4042 - val_accuracy: 0.4396\n",
      "Epoch 33/100\n",
      "387/387 [==============================] - 0s 1ms/step - loss: 1.5070 - accuracy: 0.4596 - val_loss: 1.4703 - val_accuracy: 0.4698\n",
      "Epoch 34/100\n",
      "387/387 [==============================] - 0s 1ms/step - loss: 1.5461 - accuracy: 0.4574 - val_loss: 1.5352 - val_accuracy: 0.4640\n",
      "Epoch 35/100\n",
      "387/387 [==============================] - 1s 2ms/step - loss: 1.5662 - accuracy: 0.4555 - val_loss: 1.3971 - val_accuracy: 0.4585\n",
      "Epoch 36/100\n",
      "387/387 [==============================] - 1s 2ms/step - loss: 1.4567 - accuracy: 0.4565 - val_loss: 1.3991 - val_accuracy: 0.4571\n",
      "Epoch 37/100\n",
      "387/387 [==============================] - 1s 1ms/step - loss: 1.4674 - accuracy: 0.4600 - val_loss: 1.4102 - val_accuracy: 0.4316\n",
      "Epoch 38/100\n",
      "387/387 [==============================] - 1s 1ms/step - loss: 1.4929 - accuracy: 0.4579 - val_loss: 1.4052 - val_accuracy: 0.4549\n",
      "Epoch 39/100\n",
      "387/387 [==============================] - 1s 2ms/step - loss: 1.3841 - accuracy: 0.4605 - val_loss: 1.3915 - val_accuracy: 0.4381\n",
      "Epoch 40/100\n",
      "387/387 [==============================] - 1s 2ms/step - loss: 1.3774 - accuracy: 0.4469 - val_loss: 1.3776 - val_accuracy: 0.4407\n",
      "Epoch 41/100\n",
      "387/387 [==============================] - 1s 2ms/step - loss: 1.3789 - accuracy: 0.4504 - val_loss: 1.3796 - val_accuracy: 0.4487\n",
      "Epoch 42/100\n",
      "387/387 [==============================] - 1s 1ms/step - loss: 1.3666 - accuracy: 0.4660 - val_loss: 1.3679 - val_accuracy: 0.4574\n",
      "Epoch 43/100\n",
      "387/387 [==============================] - 1s 1ms/step - loss: 1.3646 - accuracy: 0.4699 - val_loss: 1.3769 - val_accuracy: 0.4585\n",
      "Epoch 44/100\n",
      "387/387 [==============================] - 1s 1ms/step - loss: 1.3456 - accuracy: 0.4791 - val_loss: 1.3712 - val_accuracy: 0.4531\n",
      "Epoch 45/100\n",
      "387/387 [==============================] - 1s 1ms/step - loss: 1.3559 - accuracy: 0.4750 - val_loss: 1.3728 - val_accuracy: 0.4567\n",
      "Epoch 46/100\n",
      "387/387 [==============================] - 1s 2ms/step - loss: 1.3436 - accuracy: 0.4759 - val_loss: 1.3601 - val_accuracy: 0.4589\n",
      "Epoch 47/100\n",
      "387/387 [==============================] - 1s 2ms/step - loss: 1.3499 - accuracy: 0.4697 - val_loss: 1.3559 - val_accuracy: 0.4745\n",
      "Epoch 48/100\n",
      "387/387 [==============================] - 1s 2ms/step - loss: 1.3514 - accuracy: 0.4713 - val_loss: 1.3577 - val_accuracy: 0.4691\n",
      "Epoch 49/100\n",
      "387/387 [==============================] - 1s 2ms/step - loss: 1.3466 - accuracy: 0.4786 - val_loss: 1.4072 - val_accuracy: 0.4378\n",
      "Epoch 50/100\n",
      "387/387 [==============================] - 1s 2ms/step - loss: 1.3807 - accuracy: 0.4600 - val_loss: 1.3873 - val_accuracy: 0.4520\n",
      "Epoch 51/100\n",
      "387/387 [==============================] - 1s 2ms/step - loss: 1.3612 - accuracy: 0.4716 - val_loss: 1.3745 - val_accuracy: 0.4571\n",
      "Epoch 52/100\n",
      "387/387 [==============================] - 1s 2ms/step - loss: 1.3467 - accuracy: 0.4747 - val_loss: 1.3896 - val_accuracy: 0.4465\n",
      "Epoch 53/100\n",
      "387/387 [==============================] - 1s 2ms/step - loss: 1.3725 - accuracy: 0.4583 - val_loss: 1.3979 - val_accuracy: 0.4432\n",
      "Epoch 54/100\n",
      "387/387 [==============================] - 1s 2ms/step - loss: 1.3455 - accuracy: 0.4718 - val_loss: 1.3679 - val_accuracy: 0.4618\n",
      "Epoch 55/100\n",
      "387/387 [==============================] - 1s 2ms/step - loss: 1.3522 - accuracy: 0.4711 - val_loss: 1.3603 - val_accuracy: 0.4523\n",
      "Epoch 56/100\n",
      "387/387 [==============================] - 1s 2ms/step - loss: 1.3500 - accuracy: 0.4708 - val_loss: 1.3549 - val_accuracy: 0.4683\n",
      "Epoch 57/100\n",
      "387/387 [==============================] - 1s 2ms/step - loss: 1.3503 - accuracy: 0.4694 - val_loss: 1.3631 - val_accuracy: 0.4702\n",
      "Epoch 58/100\n",
      "387/387 [==============================] - 1s 2ms/step - loss: 1.3600 - accuracy: 0.4700 - val_loss: 1.3922 - val_accuracy: 0.4494\n",
      "Epoch 59/100\n",
      "387/387 [==============================] - 1s 2ms/step - loss: 1.3682 - accuracy: 0.4654 - val_loss: 1.3666 - val_accuracy: 0.4625\n",
      "Epoch 60/100\n",
      "387/387 [==============================] - 0s 1ms/step - loss: 1.3476 - accuracy: 0.4767 - val_loss: 1.3556 - val_accuracy: 0.4651\n",
      "Epoch 61/100\n",
      "387/387 [==============================] - 1s 1ms/step - loss: 1.3496 - accuracy: 0.4748 - val_loss: 1.3622 - val_accuracy: 0.4742\n",
      "Epoch 62/100\n",
      "387/387 [==============================] - 0s 1ms/step - loss: 1.4089 - accuracy: 0.4735 - val_loss: 1.4312 - val_accuracy: 0.4309\n",
      "Epoch 63/100\n",
      "387/387 [==============================] - 0s 1ms/step - loss: 1.4059 - accuracy: 0.4436 - val_loss: 1.4153 - val_accuracy: 0.4305\n",
      "Epoch 64/100\n",
      "387/387 [==============================] - 1s 2ms/step - loss: 1.3853 - accuracy: 0.4513 - val_loss: 1.3966 - val_accuracy: 0.4381\n",
      "Epoch 65/100\n",
      "387/387 [==============================] - 1s 2ms/step - loss: 1.3694 - accuracy: 0.4636 - val_loss: 1.3857 - val_accuracy: 0.4512\n",
      "Epoch 66/100\n",
      "387/387 [==============================] - 1s 2ms/step - loss: 1.3740 - accuracy: 0.4651 - val_loss: 1.3726 - val_accuracy: 0.4549\n",
      "Epoch 67/100\n",
      "387/387 [==============================] - 1s 2ms/step - loss: 1.3742 - accuracy: 0.4625 - val_loss: 1.4016 - val_accuracy: 0.4451\n",
      "Epoch 68/100\n",
      "387/387 [==============================] - 1s 2ms/step - loss: 1.3893 - accuracy: 0.4572 - val_loss: 1.3946 - val_accuracy: 0.4527\n",
      "Epoch 69/100\n",
      "387/387 [==============================] - 1s 2ms/step - loss: 1.3724 - accuracy: 0.4641 - val_loss: 1.3854 - val_accuracy: 0.4487\n",
      "Epoch 70/100\n",
      "387/387 [==============================] - 0s 1ms/step - loss: 1.3629 - accuracy: 0.4701 - val_loss: 1.3782 - val_accuracy: 0.4552\n",
      "Epoch 71/100\n",
      "387/387 [==============================] - 1s 2ms/step - loss: 1.3509 - accuracy: 0.4790 - val_loss: 1.3705 - val_accuracy: 0.4596\n",
      "Epoch 72/100\n",
      "387/387 [==============================] - 1s 2ms/step - loss: 1.3540 - accuracy: 0.4764 - val_loss: 1.3634 - val_accuracy: 0.4691\n",
      "Epoch 73/100\n",
      "387/387 [==============================] - 1s 3ms/step - loss: 1.3432 - accuracy: 0.4834 - val_loss: 1.3573 - val_accuracy: 0.4560\n",
      "Epoch 74/100\n",
      "387/387 [==============================] - 1s 2ms/step - loss: 1.3469 - accuracy: 0.4752 - val_loss: 1.3649 - val_accuracy: 0.4680\n",
      "Epoch 75/100\n",
      "387/387 [==============================] - 1s 2ms/step - loss: 1.3448 - accuracy: 0.4787 - val_loss: 1.3608 - val_accuracy: 0.4749\n",
      "Epoch 76/100\n",
      "387/387 [==============================] - 1s 2ms/step - loss: 1.3478 - accuracy: 0.4775 - val_loss: 1.3631 - val_accuracy: 0.4716\n",
      "Epoch 77/100\n",
      "387/387 [==============================] - 1s 1ms/step - loss: 1.3502 - accuracy: 0.4729 - val_loss: 1.3652 - val_accuracy: 0.4694\n",
      "Epoch 78/100\n",
      "387/387 [==============================] - 1s 1ms/step - loss: 1.3396 - accuracy: 0.4801 - val_loss: 1.3629 - val_accuracy: 0.4600\n",
      "Epoch 79/100\n",
      "387/387 [==============================] - 0s 1ms/step - loss: 1.3467 - accuracy: 0.4755 - val_loss: 1.3538 - val_accuracy: 0.4665\n",
      "Epoch 80/100\n",
      "387/387 [==============================] - 1s 1ms/step - loss: 1.3744 - accuracy: 0.4702 - val_loss: 1.3738 - val_accuracy: 0.4585\n",
      "Epoch 81/100\n",
      "387/387 [==============================] - 0s 1ms/step - loss: 1.3573 - accuracy: 0.4643 - val_loss: 1.3616 - val_accuracy: 0.4727\n",
      "Epoch 82/100\n",
      "387/387 [==============================] - 1s 1ms/step - loss: 1.3500 - accuracy: 0.4727 - val_loss: 1.3556 - val_accuracy: 0.4691\n",
      "Epoch 83/100\n",
      "387/387 [==============================] - 1s 1ms/step - loss: 1.3526 - accuracy: 0.4771 - val_loss: 1.3692 - val_accuracy: 0.4676\n",
      "Epoch 84/100\n",
      "387/387 [==============================] - 1s 2ms/step - loss: 1.3490 - accuracy: 0.4745 - val_loss: 1.3550 - val_accuracy: 0.4727\n",
      "Epoch 85/100\n",
      "387/387 [==============================] - 1s 1ms/step - loss: 1.3450 - accuracy: 0.4776 - val_loss: 1.3582 - val_accuracy: 0.4731\n",
      "Epoch 86/100\n",
      "387/387 [==============================] - 0s 1ms/step - loss: 1.3908 - accuracy: 0.4587 - val_loss: 1.4067 - val_accuracy: 0.4483\n",
      "Epoch 87/100\n",
      "387/387 [==============================] - 1s 2ms/step - loss: 1.3751 - accuracy: 0.4653 - val_loss: 1.3874 - val_accuracy: 0.4549\n",
      "Epoch 88/100\n",
      "387/387 [==============================] - 1s 2ms/step - loss: 1.3804 - accuracy: 0.4650 - val_loss: 1.3768 - val_accuracy: 0.4578\n",
      "Epoch 89/100\n",
      "387/387 [==============================] - 1s 2ms/step - loss: 1.3667 - accuracy: 0.4650 - val_loss: 1.3689 - val_accuracy: 0.4647\n",
      "Epoch 90/100\n",
      "387/387 [==============================] - 1s 2ms/step - loss: 1.3518 - accuracy: 0.4780 - val_loss: 1.3630 - val_accuracy: 0.4745\n",
      "Epoch 91/100\n",
      "387/387 [==============================] - 1s 2ms/step - loss: 1.3445 - accuracy: 0.4819 - val_loss: 1.3600 - val_accuracy: 0.4629\n",
      "Epoch 92/100\n",
      "387/387 [==============================] - 1s 2ms/step - loss: 1.3384 - accuracy: 0.4822 - val_loss: 1.3577 - val_accuracy: 0.4683\n",
      "Epoch 93/100\n",
      "387/387 [==============================] - 1s 2ms/step - loss: 1.3741 - accuracy: 0.4660 - val_loss: 1.4069 - val_accuracy: 0.4392\n",
      "Epoch 94/100\n",
      "387/387 [==============================] - 1s 2ms/step - loss: 1.4022 - accuracy: 0.4485 - val_loss: 1.4053 - val_accuracy: 0.4414\n",
      "Epoch 95/100\n",
      "387/387 [==============================] - 1s 2ms/step - loss: 1.3894 - accuracy: 0.4541 - val_loss: 1.3863 - val_accuracy: 0.4509\n",
      "Epoch 96/100\n",
      "387/387 [==============================] - 1s 2ms/step - loss: 1.3643 - accuracy: 0.4724 - val_loss: 1.3818 - val_accuracy: 0.4560\n",
      "Epoch 97/100\n",
      "387/387 [==============================] - 1s 2ms/step - loss: 1.3551 - accuracy: 0.4797 - val_loss: 1.3714 - val_accuracy: 0.4625\n",
      "Epoch 98/100\n",
      "387/387 [==============================] - 1s 2ms/step - loss: 1.3562 - accuracy: 0.4763 - val_loss: 1.3581 - val_accuracy: 0.4680\n",
      "Epoch 99/100\n",
      "387/387 [==============================] - 1s 2ms/step - loss: 1.3495 - accuracy: 0.4736 - val_loss: 1.3618 - val_accuracy: 0.4589\n",
      "Epoch 100/100\n",
      "387/387 [==============================] - 1s 2ms/step - loss: 1.3521 - accuracy: 0.4715 - val_loss: 1.3581 - val_accuracy: 0.4720\n"
     ]
    },
    {
     "output_type": "execute_result",
     "data": {
      "text/plain": [
       "<keras.callbacks.History at 0x1b2fe6a0fc8>"
      ]
     },
     "metadata": {},
     "execution_count": 34
    }
   ],
   "source": [
    "model.fit(X_train, y_train, validation_data=(X_test, y_test), epochs=100, batch_size=64, verbose=1)"
   ]
  },
  {
   "cell_type": "code",
   "execution_count": 35,
   "metadata": {},
   "outputs": [
    {
     "output_type": "execute_result",
     "data": {
      "text/plain": [
       "   fire_size  remoteness  putout_time\n",
       "0       37.0    0.191923            0"
      ],
      "text/html": "<div>\n<style scoped>\n    .dataframe tbody tr th:only-of-type {\n        vertical-align: middle;\n    }\n\n    .dataframe tbody tr th {\n        vertical-align: top;\n    }\n\n    .dataframe thead th {\n        text-align: right;\n    }\n</style>\n<table border=\"1\" class=\"dataframe\">\n  <thead>\n    <tr style=\"text-align: right;\">\n      <th></th>\n      <th>fire_size</th>\n      <th>remoteness</th>\n      <th>putout_time</th>\n    </tr>\n  </thead>\n  <tbody>\n    <tr>\n      <th>0</th>\n      <td>37.0</td>\n      <td>0.191923</td>\n      <td>0</td>\n    </tr>\n  </tbody>\n</table>\n</div>"
     },
     "metadata": {},
     "execution_count": 35
    }
   ],
   "source": [
    "# test model\n",
    "test_data = {\n",
    "    'fire_size': [37.0],\n",
    "    'remoteness': [0.191923],\n",
    "    'putout_time': [0]\t\n",
    "}\n",
    "test_data = pd.DataFrame(test_data)\n",
    "test_data"
   ]
  },
  {
   "cell_type": "code",
   "execution_count": 36,
   "metadata": {},
   "outputs": [
    {
     "output_type": "execute_result",
     "data": {
      "text/plain": [
       "array([[0.26619574, 0.42578152, 0.03273044, 0.03664317, 0.02949393,\n",
       "        0.20915516]], dtype=float32)"
      ]
     },
     "metadata": {},
     "execution_count": 36
    }
   ],
   "source": [
    "result = model.predict(test_data)\n",
    "result"
   ]
  },
  {
   "cell_type": "code",
   "execution_count": 37,
   "metadata": {},
   "outputs": [
    {
     "output_type": "stream",
     "name": "stdout",
     "text": [
      "1\n"
     ]
    }
   ],
   "source": [
    "# find class\n",
    "final = 0\n",
    "for i in range(6):\n",
    "    if (result[0][i] > final):\n",
    "        final = result[0][i]\n",
    "    # print(final)\n",
    "final = np.where(result[0] == final)\n",
    "print(final[0][0])\n",
    "    "
   ]
  },
  {
   "cell_type": "code",
   "execution_count": 38,
   "metadata": {},
   "outputs": [],
   "source": [
    "# save model\n",
    "model.save(\"../Weights/cause.h5\")"
   ]
  },
  {
   "cell_type": "code",
   "execution_count": 39,
   "metadata": {},
   "outputs": [],
   "source": [
    "# add cause to predicted fires dataset\n",
    "predicted_data = pd.read_csv('../data/PredictedData.csv')"
   ]
  },
  {
   "cell_type": "code",
   "execution_count": 43,
   "metadata": {},
   "outputs": [],
   "source": [
    "predicted_data = predicted_data.dropna()\n",
    "predicted_data['putout_time'] = predicted_data['putout_time'].str.split(' ').str[0]\n",
    "test_data = predicted_data[['fire_size', 'remoteness', 'putout_time']].astype('float')\n",
    "results = model.predict(test_data)"
   ]
  }
 ]
}