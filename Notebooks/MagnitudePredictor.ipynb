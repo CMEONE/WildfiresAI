{
  "nbformat": 4,
  "nbformat_minor": 2,
  "metadata": {
    "colab": {
      "name": "FireSize.ipynb",
      "provenance": []
    },
    "kernelspec": {
      "name": "python3",
      "display_name": "Python 3.7.9 64-bit"
    },
    "language_info": {
      "name": "python",
      "version": "3.7.9",
      "mimetype": "text/x-python",
      "codemirror_mode": {
        "name": "ipython",
        "version": 3
      },
      "pygments_lexer": "ipython3",
      "nbconvert_exporter": "python",
      "file_extension": ".py"
    },
    "interpreter": {
      "hash": "7f8c79caef6f500d10f1d53b5233fd35aa3fbbd3a39d10048919692e9c705d27"
    }
  },
  "cells": [
    {
      "cell_type": "markdown",
      "source": [
        "#1] Imports"
      ],
      "metadata": {
        "id": "vf7kdj9drjYM"
      }
    },
    {
      "cell_type": "code",
      "execution_count": 1,
      "source": [
        "#Imports\r\n",
        "import pandas as pd\r\n",
        "import numpy as np\r\n",
        "import matplotlib.pyplot as plt"
      ],
      "outputs": [],
      "metadata": {
        "id": "tvryeR3ZHb2g"
      }
    },
    {
      "cell_type": "markdown",
      "source": [
        "# 2] Pre-Processing"
      ],
      "metadata": {
        "id": "vqGS19gTrfXK"
      }
    },
    {
      "cell_type": "code",
      "execution_count": 2,
      "source": [
        "# Reading in relevant data\r\n",
        "data = pd.read_csv(\"../Data/WildfireData.csv\", na_values=\"NaN\")\r\n",
        "data = data[['fire_size', 'latitude', 'longitude', 'discovery_month', 'Vegetation', 'Temp_pre_7', 'Hum_pre_7', 'Prec_pre_7', 'Wind_pre_7']]"
      ],
      "outputs": [],
      "metadata": {
        "id": "wPXKY14NqBj4"
      }
    },
    {
      "cell_type": "code",
      "execution_count": 3,
      "source": [
        "# Drop NA\r\n",
        "data = data.dropna()"
      ],
      "outputs": [],
      "metadata": {
        "id": "uL6BzlOQt0Oi"
      }
    },
    {
      "cell_type": "code",
      "execution_count": 4,
      "source": [
        "# One Hot Encodings\r\n",
        "non_dummy_cols = ['fire_size', 'latitude','longitude', 'Temp_pre_7', 'Hum_pre_7', 'Prec_pre_7', 'Wind_pre_7'] \r\n",
        "dummy_cols = list(set(data.columns) - set(non_dummy_cols))\r\n",
        "data = pd.get_dummies(data, columns=dummy_cols)"
      ],
      "outputs": [],
      "metadata": {
        "id": "7PdgrWZ7t1Ue"
      }
    },
    {
      "cell_type": "markdown",
      "source": [
        "# 3] Create Individual Models "
      ],
      "metadata": {
        "id": "YRkxRzSbtgMF"
      }
    },
    {
      "cell_type": "code",
      "execution_count": 5,
      "source": [
        "#Split train/test\r\n",
        "from sklearn.model_selection import train_test_split\r\n",
        "X = data.drop('fire_size', axis=1) \r\n",
        "y = data.fire_size  \r\n",
        "X_train, X_test, y_train, y_test = train_test_split(X, y, test_size=0.3)"
      ],
      "outputs": [],
      "metadata": {
        "id": "G268FYw0uSfZ"
      }
    },
    {
      "cell_type": "code",
      "execution_count": 6,
      "source": [
        "#Imports for various models\r\n",
        "from sklearn.linear_model import ElasticNet\r\n",
        "from sklearn.svm import SVR\r\n",
        "from xgboost import XGBRegressor\r\n",
        "\r\n",
        "seed = 43"
      ],
      "outputs": [],
      "metadata": {
        "id": "rlSQtgn0qrVF"
      }
    },
    {
      "cell_type": "code",
      "execution_count": 7,
      "source": [
        "#Initialize Models\r\n",
        "elnt = ElasticNet(random_state = seed)\r\n",
        "svm = SVR()\r\n",
        "xgb = XGBRegressor(random_state = seed, n_jobs = -1)\r\n",
        "\r\n",
        "elnt.fit(X_train, y_train)\r\n",
        "svm.fit(X_train, y_train)\r\n",
        "xgb.fit(X_train, y_train)"
      ],
      "outputs": [
        {
          "output_type": "execute_result",
          "data": {
            "text/plain": [
              "XGBRegressor(base_score=0.5, booster='gbtree', colsample_bylevel=1,\n",
              "             colsample_bynode=1, colsample_bytree=1, gamma=0, gpu_id=-1,\n",
              "             importance_type='gain', interaction_constraints='',\n",
              "             learning_rate=0.300000012, max_delta_step=0, max_depth=6,\n",
              "             min_child_weight=1, missing=nan, monotone_constraints='()',\n",
              "             n_estimators=100, n_jobs=-1, num_parallel_tree=1, random_state=43,\n",
              "             reg_alpha=0, reg_lambda=1, scale_pos_weight=1, subsample=1,\n",
              "             tree_method='exact', validate_parameters=1, verbosity=None)"
            ]
          },
          "metadata": {},
          "execution_count": 7
        }
      ],
      "metadata": {
        "colab": {
          "base_uri": "https://localhost:8080/"
        },
        "id": "QmF_PoGCt5YR",
        "outputId": "043049a1-4a67-402c-dae2-65157c91b3ea"
      }
    },
    {
      "cell_type": "code",
      "execution_count": null,
      "source": [
        "#Hyperparameter grid search\r\n",
        "from sklearn.model_selection import GridSearchCV\r\n",
        "def grid_search_cv(model, params):\r\n",
        "    global best_params, best_score\r\n",
        "    grid_search = GridSearchCV(estimator = model, param_grid = params, cv = 10, verbose = 1,\r\n",
        "                            scoring = 'neg_mean_squared_error', n_jobs = -1)\r\n",
        "    grid_search.fit(X_train, y_train)\r\n",
        "    best_params = grid_search.best_params_ \r\n",
        "    best_score = np.sqrt(-1*(np.round(grid_search.best_score_, 5)))\r\n",
        "    return best_params, best_score"
      ],
      "outputs": [],
      "metadata": {
        "id": "QpbskEa9uFUH"
      }
    },
    {
      "cell_type": "code",
      "execution_count": null,
      "source": [
        "#Optimize Elastic Net\r\n",
        "elastic_params = {'alpha': [0.0005, 0.001, 0.002, 0.005], \r\n",
        "                 'l1_ratio': [0.60, 0.65, 0.70, 0.80],\r\n",
        "                 'random_state':[seed]}\r\n",
        "grid_search_cv(elnt, elastic_params)\r\n",
        "elastic_best_params, elastic_best_score = best_params, best_score\r\n",
        "print('Elastic Net best params:{} & best_score:{:0.5f}' .format(elastic_best_params, elastic_best_score))"
      ],
      "outputs": [
        {
          "output_type": "stream",
          "name": "stdout",
          "text": [
            "Fitting 10 folds for each of 16 candidates, totalling 160 fits\n"
          ]
        },
        {
          "output_type": "stream",
          "name": "stderr",
          "text": [
            "[Parallel(n_jobs=-1)]: Using backend LokyBackend with 2 concurrent workers.\n",
            "[Parallel(n_jobs=-1)]: Done  46 tasks      | elapsed:   33.8s\n",
            "[Parallel(n_jobs=-1)]: Done 160 out of 160 | elapsed:  1.7min finished\n"
          ]
        },
        {
          "output_type": "stream",
          "name": "stdout",
          "text": [
            "Elastic Net best params:{'alpha': 0.005, 'l1_ratio': 0.6, 'random_state': 43} & best_score:13879.59241\n"
          ]
        }
      ],
      "metadata": {
        "colab": {
          "base_uri": "https://localhost:8080/"
        },
        "id": "dp2JZrq9vNY2",
        "outputId": "a4a99bdb-372b-4b8c-f4fb-258de583e4a1"
      }
    },
    {
      "cell_type": "code",
      "execution_count": null,
      "source": [
        "#Optimize Support Vector Regressor\r\n",
        "svm_params = {\r\n",
        "    'kernel': ['linear', 'poly', 'rbf', 'sigmoid'], \r\n",
        "    'C': [4, 5], \r\n",
        "    'gamma':[0.0001, 0.001]}\r\n",
        "\r\n",
        "grid_search_cv(svm, svm_params)\r\n",
        "svm_best_params, svm_best_score = best_params, best_score\r\n",
        "print('SVM best params:{} & best_score:{:0.5f}' .format(svm_best_params, svm_best_score))"
      ],
      "outputs": [],
      "metadata": {
        "id": "goKOQlbfvrA3"
      }
    },
    {
      "cell_type": "code",
      "execution_count": 8,
      "source": [
        "#Optimize XGB\r\n",
        "xgb_opt = XGBRegressor(colsample_bytree = 0.4603, gamma = 0.0468, \r\n",
        "                             learning_rate = 0.04, max_depth = 3, \r\n",
        "                             min_child_weight = 1.7817, n_estimators = 2500,\r\n",
        "                             reg_alpha = 0.4640, reg_lambda = 0.8571,\r\n",
        "                             subsample = 0.5213, silent = 1,\r\n",
        "                             nthread = -1, random_state = 7)"
      ],
      "outputs": [],
      "metadata": {
        "id": "ffT-tQNVvqaT"
      }
    },
    {
      "cell_type": "code",
      "execution_count": 9,
      "source": [
        "#Retrain with optimized hyperparameters\r\n",
        "# elastic_net_opt = ElasticNet(**elastic_best_params)\r\n",
        "# svm_opt = SVR(**svm_best_params)\r\n",
        "xgb_opt = xgb_opt\r\n",
        "\r\n",
        "# elastic_net_opt.fit(X_train, y_train)\r\n",
        "# svm_opt.fit(X_train, y_train)\r\n",
        "xgb_opt.fit(X_train, y_train)"
      ],
      "outputs": [
        {
          "output_type": "stream",
          "name": "stdout",
          "text": [
            "[14:55:13] WARNING: C:/Users/Administrator/workspace/xgboost-win64_release_1.4.0/src/learner.cc:573: \n",
            "Parameters: { \"silent\" } might not be used.\n",
            "\n",
            "  This may not be accurate due to some parameters are only used in language bindings but\n",
            "  passed down to XGBoost core.  Or some parameters are not used but slip through this\n",
            "  verification. Please open an issue if you find above cases.\n",
            "\n",
            "\n"
          ]
        },
        {
          "output_type": "execute_result",
          "data": {
            "text/plain": [
              "XGBRegressor(base_score=0.5, booster='gbtree', colsample_bylevel=1,\n",
              "             colsample_bynode=1, colsample_bytree=0.4603, gamma=0.0468,\n",
              "             gpu_id=-1, importance_type='gain', interaction_constraints='',\n",
              "             learning_rate=0.04, max_delta_step=0, max_depth=3,\n",
              "             min_child_weight=1.7817, missing=nan, monotone_constraints='()',\n",
              "             n_estimators=2500, n_jobs=4, nthread=-1, num_parallel_tree=1,\n",
              "             random_state=7, reg_alpha=0.464, reg_lambda=0.8571,\n",
              "             scale_pos_weight=1, silent=1, subsample=0.5213,\n",
              "             tree_method='exact', validate_parameters=1, verbosity=None)"
            ]
          },
          "metadata": {},
          "execution_count": 9
        }
      ],
      "metadata": {
        "colab": {
          "base_uri": "https://localhost:8080/"
        },
        "id": "-3EUs1OMw5j1",
        "outputId": "77121234-9f34-4a00-e303-afd77d3121b9"
      }
    },
    {
      "cell_type": "code",
      "execution_count": null,
      "source": [
        "#Define learning curve function\r\n",
        "from sklearn.model_selection import learning_curve\r\n",
        "def plot_learning_curve(model):\r\n",
        "    train_sizes, train_scores, test_scores = learning_curve(model, X_train, y_train, \r\n",
        "                                            train_sizes = np.linspace(0.01, 1.0, 20), cv = 10, scoring = 'neg_mean_squared_error', \r\n",
        "                                            n_jobs = -1, random_state = seed)\r\n",
        "    train_mean = np.mean(train_scores, axis = 1)\r\n",
        "    train_std = np.std(train_scores, axis = 1)\r\n",
        "\r\n",
        "    test_mean = np.mean(test_scores, axis = 1)\r\n",
        "    test_std = np.std(test_scores, axis = 1)  \r\n",
        "    \r\n",
        "    plt.plot(train_sizes, train_mean, 'o-', color = 'red',  label = 'Training score')\r\n",
        "    plt.plot(train_sizes, test_mean, 'o-', color = 'green', label = 'Cross-validation score')\r\n",
        "    \r\n",
        "    plt.fill_between(train_sizes, train_mean - train_std, train_mean + train_std, alpha = 0.1, color = 'r') # Alpha controls band transparency.\r\n",
        "    plt.fill_between(train_sizes, test_mean - test_std, test_mean + test_std, alpha = 0.1, color = 'g')\r\n",
        "    \r\n",
        "    font_size = 12\r\n",
        "    plt.xlabel('Training Set Size', fontsize = font_size)\r\n",
        "    plt.ylabel('Accuracy Score', fontsize = font_size)\r\n",
        "    plt.xticks(fontsize = font_size)\r\n",
        "    plt.yticks(fontsize = font_size)\r\n",
        "    plt.legend(loc = 'best')\r\n",
        "    plt.grid()\r\n"
      ],
      "outputs": [],
      "metadata": {
        "id": "8yIm_t4exDdf"
      }
    },
    {
      "cell_type": "markdown",
      "source": [
        "#4] Combine into Ensemble Model"
      ],
      "metadata": {
        "id": "V-Bb-25vy1o6"
      }
    },
    {
      "cell_type": "code",
      "execution_count": null,
      "source": [
        "#Dataframe containing all 3 ensemble models\r\n",
        "base_model_prediction = pd.DataFrame({\r\n",
        "       'Elastic Net':elnt.predict(X_test), \r\n",
        "       'SVM':svm.predict(X_test),\r\n",
        "       'XGB':xgb.predict(X_test), \r\n",
        "  })\r\n",
        "\r\n",
        "from IPython.display import Markdown\r\n",
        "def bold(string):\r\n",
        "    display(Markdown(string))\r\n",
        "bold('**All the Base Model Predictions:**')\r\n",
        "display(base_model_prediction.head())"
      ],
      "outputs": [
        {
          "output_type": "display_data",
          "data": {
            "text/plain": [
              "<IPython.core.display.Markdown object>"
            ],
            "text/markdown": [
              "**All the Base Model Predictions:**"
            ]
          },
          "metadata": {
            "tags": []
          }
        },
        {
          "output_type": "display_data",
          "data": {
            "text/plain": [
              "   Elastic Net        SVM          XGB\n",
              "0  5376.199466  10.471358  6053.119141\n",
              "1  1548.151290   3.253075   145.265396\n",
              "2  1125.510421   3.248031   232.562973\n",
              "3  6157.072399   9.606693   -13.402963\n",
              "4  4800.066478  13.911445  5452.743164"
            ],
            "text/html": [
              "<div>\n",
              "<style scoped>\n",
              "    .dataframe tbody tr th:only-of-type {\n",
              "        vertical-align: middle;\n",
              "    }\n",
              "\n",
              "    .dataframe tbody tr th {\n",
              "        vertical-align: top;\n",
              "    }\n",
              "\n",
              "    .dataframe thead th {\n",
              "        text-align: right;\n",
              "    }\n",
              "</style>\n",
              "<table border=\"1\" class=\"dataframe\">\n",
              "  <thead>\n",
              "    <tr style=\"text-align: right;\">\n",
              "      <th></th>\n",
              "      <th>Elastic Net</th>\n",
              "      <th>SVM</th>\n",
              "      <th>XGB</th>\n",
              "    </tr>\n",
              "  </thead>\n",
              "  <tbody>\n",
              "    <tr>\n",
              "      <th>0</th>\n",
              "      <td>5376.199466</td>\n",
              "      <td>10.471358</td>\n",
              "      <td>6053.119141</td>\n",
              "    </tr>\n",
              "    <tr>\n",
              "      <th>1</th>\n",
              "      <td>1548.151290</td>\n",
              "      <td>3.253075</td>\n",
              "      <td>145.265396</td>\n",
              "    </tr>\n",
              "    <tr>\n",
              "      <th>2</th>\n",
              "      <td>1125.510421</td>\n",
              "      <td>3.248031</td>\n",
              "      <td>232.562973</td>\n",
              "    </tr>\n",
              "    <tr>\n",
              "      <th>3</th>\n",
              "      <td>6157.072399</td>\n",
              "      <td>9.606693</td>\n",
              "      <td>-13.402963</td>\n",
              "    </tr>\n",
              "    <tr>\n",
              "      <th>4</th>\n",
              "      <td>4800.066478</td>\n",
              "      <td>13.911445</td>\n",
              "      <td>5452.743164</td>\n",
              "    </tr>\n",
              "  </tbody>\n",
              "</table>\n",
              "</div>"
            ]
          },
          "metadata": {
            "tags": []
          }
        }
      ],
      "metadata": {
        "colab": {
          "base_uri": "https://localhost:8080/",
          "height": 227
        },
        "id": "4TEJMq21y3YI",
        "outputId": "ab5ec703-abda-425c-ea95-33c0007e1350"
      }
    },
    {
      "cell_type": "code",
      "execution_count": null,
      "source": [
        "#Averaging Models\r\n",
        "y_elastic = elnt.predict(X_test)\r\n",
        "y_svm = svm.predict(X_test)\r\n",
        "y_xgb = xgb.predict(X_test)\r\n",
        "\r\n",
        "avg_ensemble = (y_svm + y_xgb + y_elastic)/3\r\n",
        "final = pd.DataFrame({'Actual': y_test, 'Predicted': avg_ensemble})\r\n",
        "print(final)"
      ],
      "outputs": [
        {
          "output_type": "stream",
          "name": "stdout",
          "text": [
            "        Actual     Predicted\n",
            "54607  61416.0   3256.808049\n",
            "39066      2.5    155.583506\n",
            "52438  29229.5  15241.124802\n",
            "269      168.3   2641.811681\n",
            "37095      2.5    833.535488\n",
            "...        ...           ...\n",
            "15793   1201.8    624.305088\n",
            "39713      2.0   -571.971091\n",
            "42309      2.0   1936.209311\n",
            "1990       1.0   -722.056072\n",
            "3059       2.0    846.890622\n",
            "\n",
            "[16611 rows x 2 columns]\n"
          ]
        }
      ],
      "metadata": {
        "colab": {
          "base_uri": "https://localhost:8080/"
        },
        "id": "Enp0s7cszMzH",
        "outputId": "8212bc19-146d-4885-a74c-0ba43869f672"
      }
    },
    {
      "cell_type": "code",
      "execution_count": 1,
      "source": [
        "# from joblib import dump, load\r\n",
        "# dump(elnt, 'elnt.joblib')\r\n",
        "# dump(svm, 'svm.joblib')\r\n",
        "# dump(xgb, 'xgb.joblib')\r\n",
        "xgb_opt.save_model('../Weights/xgb.json')"
      ],
      "outputs": [
        {
          "output_type": "error",
          "ename": "NameError",
          "evalue": "name 'xgb' is not defined",
          "traceback": [
            "\u001b[1;31m---------------------------------------------------------------------------\u001b[0m",
            "\u001b[1;31mNameError\u001b[0m                                 Traceback (most recent call last)",
            "\u001b[1;32m<ipython-input-1-c30f37a635af>\u001b[0m in \u001b[0;36m<module>\u001b[1;34m\u001b[0m\n\u001b[0;32m      3\u001b[0m \u001b[1;31m# dump(svm, 'svm.joblib')\u001b[0m\u001b[1;33m\u001b[0m\u001b[1;33m\u001b[0m\u001b[1;33m\u001b[0m\u001b[0m\n\u001b[0;32m      4\u001b[0m \u001b[1;31m# dump(xgb, 'xgb.joblib')\u001b[0m\u001b[1;33m\u001b[0m\u001b[1;33m\u001b[0m\u001b[1;33m\u001b[0m\u001b[0m\n\u001b[1;32m----> 5\u001b[1;33m \u001b[0mxgb\u001b[0m\u001b[1;33m.\u001b[0m\u001b[0msave_model\u001b[0m\u001b[1;33m(\u001b[0m\u001b[1;34m'../Weights/xgb.json'\u001b[0m\u001b[1;33m)\u001b[0m\u001b[1;33m\u001b[0m\u001b[1;33m\u001b[0m\u001b[0m\n\u001b[0m",
            "\u001b[1;31mNameError\u001b[0m: name 'xgb' is not defined"
          ]
        }
      ],
      "metadata": {
        "id": "K2ikkm1U9hcc"
      }
    }
  ]
}