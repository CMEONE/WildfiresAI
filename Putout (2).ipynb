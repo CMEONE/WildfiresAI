{
  "nbformat": 4,
  "nbformat_minor": 0,
  "metadata": {
    "colab": {
      "name": "Putout.ipynb",
      "provenance": []
    },
    "kernelspec": {
      "name": "python3",
      "display_name": "Python 3"
    },
    "language_info": {
      "name": "python"
    }
  },
  "cells": [
    {
      "cell_type": "markdown",
      "metadata": {
        "id": "sa841T6a2mi3"
      },
      "source": [
        "#1] Imports"
      ]
    },
    {
      "cell_type": "code",
      "metadata": {
        "id": "ogLYg1d2G0UP"
      },
      "source": [
        "#Imports\n",
        "import pandas as pd\n",
        "import numpy as np\n",
        "from keras.models import Sequential\n",
        "from keras.layers import Dense\n",
        "from sklearn.metrics import mean_absolute_error"
      ],
      "execution_count": 1,
      "outputs": []
    },
    {
      "cell_type": "markdown",
      "metadata": {
        "id": "kFyA7CO028-W"
      },
      "source": [
        "# 2] Pre-Processing"
      ]
    },
    {
      "cell_type": "code",
      "metadata": {
        "id": "6K8W_BkD2o5f"
      },
      "source": [
        "# Reading in relevant data\n",
        "data = pd.read_csv(\"WildfireData.csv\", na_values=\"NaN\")\n",
        "data = data[['fire_size', 'remoteness', 'discovery_month', 'Vegetation', 'putout_time']]"
      ],
      "execution_count": 2,
      "outputs": []
    },
    {
      "cell_type": "code",
      "metadata": {
        "id": "pZ_gKjw-22Pj"
      },
      "source": [
        "# Drop NA\n",
        "data = data.dropna()"
      ],
      "execution_count": 3,
      "outputs": []
    },
    {
      "cell_type": "code",
      "metadata": {
        "id": "AKIo1kWk23u5"
      },
      "source": [
        "# One Hot Encodings\n",
        "non_dummy_cols = ['fire_size', 'remoteness','putout_time'] \n",
        "dummy_cols = list(set(data.columns) - set(non_dummy_cols))\n",
        "data = pd.get_dummies(data, columns=dummy_cols)"
      ],
      "execution_count": 4,
      "outputs": []
    },
    {
      "cell_type": "markdown",
      "metadata": {
        "id": "Kqhp6lJS3AfN"
      },
      "source": [
        "#3] Models"
      ]
    },
    {
      "cell_type": "code",
      "metadata": {
        "id": "jTkCfbrd-G1c"
      },
      "source": [
        "#Split train/test\n",
        "from sklearn.model_selection import train_test_split\n",
        "X = data.drop('putout_time', axis=1) \n",
        "y = data.fire_size  \n",
        "X_train, X_test, y_train, y_test = train_test_split(X, y, test_size=0.3)"
      ],
      "execution_count": 5,
      "outputs": []
    },
    {
      "cell_type": "code",
      "metadata": {
        "id": "WC52mda9TMUN"
      },
      "source": [
        "#Construct Model\n",
        "model = Sequential()\n",
        "model.add(Dense(20, input_dim=(21), activation='relu', kernel_initializer='he_normal'))\n",
        "model.add(Dense(10, activation='relu', kernel_initializer='he_normal'))\n",
        "model.add(Dense(1, activation='linear'))"
      ],
      "execution_count": 6,
      "outputs": []
    },
    {
      "cell_type": "code",
      "metadata": {
        "id": "ivh8j-kbUFXR"
      },
      "source": [
        "# Compile Model\n",
        "model.compile(loss='mse', optimizer='adam')"
      ],
      "execution_count": 7,
      "outputs": []
    },
    {
      "cell_type": "code",
      "metadata": {
        "colab": {
          "base_uri": "https://localhost:8080/"
        },
        "id": "blcC8wt1UHHH",
        "outputId": "e61222e9-a543-49a9-9520-e45f5f47ef03"
      },
      "source": [
        "# Fit Model\n",
        "model.fit(X_train, y_train, epochs=100, batch_size=32, verbose=2)"
      ],
      "execution_count": 13,
      "outputs": [
        {
          "output_type": "stream",
          "text": [
            "Epoch 1/100\n",
            "602/602 - 1s - loss: 449.0771\n",
            "Epoch 2/100\n",
            "602/602 - 1s - loss: 757.8224\n",
            "Epoch 3/100\n",
            "602/602 - 1s - loss: 448.7902\n",
            "Epoch 4/100\n",
            "602/602 - 1s - loss: 101837.3047\n",
            "Epoch 5/100\n",
            "602/602 - 1s - loss: 3034.2908\n",
            "Epoch 6/100\n",
            "602/602 - 1s - loss: 650.1714\n",
            "Epoch 7/100\n",
            "602/602 - 1s - loss: 524019.9688\n",
            "Epoch 8/100\n",
            "602/602 - 1s - loss: 53.3666\n",
            "Epoch 9/100\n",
            "602/602 - 1s - loss: 4.2501\n",
            "Epoch 10/100\n",
            "602/602 - 1s - loss: 100.3546\n",
            "Epoch 11/100\n",
            "602/602 - 1s - loss: 1065.4348\n",
            "Epoch 12/100\n",
            "602/602 - 1s - loss: 259299.8750\n",
            "Epoch 13/100\n",
            "602/602 - 1s - loss: 7.1070\n",
            "Epoch 14/100\n",
            "602/602 - 1s - loss: 8.9918\n",
            "Epoch 15/100\n",
            "602/602 - 1s - loss: 567.5634\n",
            "Epoch 16/100\n",
            "602/602 - 1s - loss: 666214.9375\n",
            "Epoch 17/100\n",
            "602/602 - 1s - loss: 22.9758\n",
            "Epoch 18/100\n",
            "602/602 - 1s - loss: 2.7993\n",
            "Epoch 19/100\n",
            "602/602 - 1s - loss: 6.7705\n",
            "Epoch 20/100\n",
            "602/602 - 1s - loss: 26.7682\n",
            "Epoch 21/100\n",
            "602/602 - 1s - loss: 44.7653\n",
            "Epoch 22/100\n",
            "602/602 - 1s - loss: 176009.9375\n",
            "Epoch 23/100\n",
            "602/602 - 1s - loss: 167.9843\n",
            "Epoch 24/100\n",
            "602/602 - 1s - loss: 22.4664\n",
            "Epoch 25/100\n",
            "602/602 - 1s - loss: 862.0995\n",
            "Epoch 26/100\n",
            "602/602 - 1s - loss: 210498.2188\n",
            "Epoch 27/100\n",
            "602/602 - 1s - loss: 692.1071\n",
            "Epoch 28/100\n",
            "602/602 - 1s - loss: 80.5024\n",
            "Epoch 29/100\n",
            "602/602 - 1s - loss: 101206.2656\n",
            "Epoch 30/100\n",
            "602/602 - 1s - loss: 26926.0488\n",
            "Epoch 31/100\n",
            "602/602 - 1s - loss: 522026.6562\n",
            "Epoch 32/100\n",
            "602/602 - 1s - loss: 2.8727\n",
            "Epoch 33/100\n",
            "602/602 - 1s - loss: 1.7349\n",
            "Epoch 34/100\n",
            "602/602 - 1s - loss: 3.5310\n",
            "Epoch 35/100\n",
            "602/602 - 1s - loss: 58.6062\n",
            "Epoch 36/100\n",
            "602/602 - 1s - loss: 340.6125\n",
            "Epoch 37/100\n",
            "602/602 - 1s - loss: 25568.4844\n",
            "Epoch 38/100\n",
            "602/602 - 1s - loss: 81936.0469\n",
            "Epoch 39/100\n",
            "602/602 - 1s - loss: 9972.7529\n",
            "Epoch 40/100\n",
            "602/602 - 1s - loss: 64565.6094\n",
            "Epoch 41/100\n",
            "602/602 - 1s - loss: 481.0568\n",
            "Epoch 42/100\n",
            "602/602 - 1s - loss: 517.0481\n",
            "Epoch 43/100\n",
            "602/602 - 1s - loss: 47242.9922\n",
            "Epoch 44/100\n",
            "602/602 - 1s - loss: 23531.8164\n",
            "Epoch 45/100\n",
            "602/602 - 1s - loss: 106028.0938\n",
            "Epoch 46/100\n",
            "602/602 - 1s - loss: 12246.9033\n",
            "Epoch 47/100\n",
            "602/602 - 1s - loss: 8466.0879\n",
            "Epoch 48/100\n",
            "602/602 - 1s - loss: 3048.5422\n",
            "Epoch 49/100\n",
            "602/602 - 1s - loss: 685813.4375\n",
            "Epoch 50/100\n",
            "602/602 - 1s - loss: 1.4397\n",
            "Epoch 51/100\n",
            "602/602 - 1s - loss: 1.8172\n",
            "Epoch 52/100\n",
            "602/602 - 1s - loss: 2.3018\n",
            "Epoch 53/100\n",
            "602/602 - 1s - loss: 17.2359\n",
            "Epoch 54/100\n",
            "602/602 - 1s - loss: 11.7002\n",
            "Epoch 55/100\n",
            "602/602 - 1s - loss: 379390.8438\n",
            "Epoch 56/100\n",
            "602/602 - 1s - loss: 1.5251\n",
            "Epoch 57/100\n",
            "602/602 - 1s - loss: 1.5358\n",
            "Epoch 58/100\n",
            "602/602 - 1s - loss: 2.7906\n",
            "Epoch 59/100\n",
            "602/602 - 1s - loss: 43.5188\n",
            "Epoch 60/100\n",
            "602/602 - 1s - loss: 169132.4531\n",
            "Epoch 61/100\n",
            "602/602 - 1s - loss: 52.5273\n",
            "Epoch 62/100\n",
            "602/602 - 1s - loss: 265764.2812\n",
            "Epoch 63/100\n",
            "602/602 - 1s - loss: 2.9045\n",
            "Epoch 64/100\n",
            "602/602 - 1s - loss: 11.7729\n",
            "Epoch 65/100\n",
            "602/602 - 1s - loss: 116261.6016\n",
            "Epoch 66/100\n",
            "602/602 - 1s - loss: 2827.3237\n",
            "Epoch 67/100\n",
            "602/602 - 1s - loss: 63.1973\n",
            "Epoch 68/100\n",
            "602/602 - 1s - loss: 68.6343\n",
            "Epoch 69/100\n",
            "602/602 - 1s - loss: 35222.6992\n",
            "Epoch 70/100\n",
            "602/602 - 1s - loss: 11669.8135\n",
            "Epoch 71/100\n",
            "602/602 - 1s - loss: 21059.1602\n",
            "Epoch 72/100\n",
            "602/602 - 1s - loss: 145842.9375\n",
            "Epoch 73/100\n",
            "602/602 - 1s - loss: 97716.4062\n",
            "Epoch 74/100\n",
            "602/602 - 1s - loss: 2.2407\n",
            "Epoch 75/100\n",
            "602/602 - 1s - loss: 5.7163\n",
            "Epoch 76/100\n",
            "602/602 - 1s - loss: 19411.2324\n",
            "Epoch 77/100\n",
            "602/602 - 1s - loss: 22262.5742\n",
            "Epoch 78/100\n",
            "602/602 - 1s - loss: 41282.9766\n",
            "Epoch 79/100\n",
            "602/602 - 1s - loss: 5.4902\n",
            "Epoch 80/100\n",
            "602/602 - 1s - loss: 58909.1016\n",
            "Epoch 81/100\n",
            "602/602 - 1s - loss: 7280.6196\n",
            "Epoch 82/100\n",
            "602/602 - 1s - loss: 2093.8914\n",
            "Epoch 83/100\n",
            "602/602 - 1s - loss: 67188.5391\n",
            "Epoch 84/100\n",
            "602/602 - 1s - loss: 362.5241\n",
            "Epoch 85/100\n",
            "602/602 - 1s - loss: 23452.2012\n",
            "Epoch 86/100\n",
            "602/602 - 1s - loss: 99939.8672\n",
            "Epoch 87/100\n",
            "602/602 - 1s - loss: 3.1735\n",
            "Epoch 88/100\n",
            "602/602 - 1s - loss: 535.8701\n",
            "Epoch 89/100\n",
            "602/602 - 1s - loss: 18028.7539\n",
            "Epoch 90/100\n",
            "602/602 - 1s - loss: 169818.5312\n",
            "Epoch 91/100\n",
            "602/602 - 1s - loss: 4.0559\n",
            "Epoch 92/100\n",
            "602/602 - 1s - loss: 8614.1221\n",
            "Epoch 93/100\n",
            "602/602 - 1s - loss: 545.6590\n",
            "Epoch 94/100\n",
            "602/602 - 1s - loss: 18795.5020\n",
            "Epoch 95/100\n",
            "602/602 - 1s - loss: 69391.6719\n",
            "Epoch 96/100\n",
            "602/602 - 1s - loss: 317.3635\n",
            "Epoch 97/100\n",
            "602/602 - 1s - loss: 40104.8281\n",
            "Epoch 98/100\n",
            "602/602 - 1s - loss: 9.0438\n",
            "Epoch 99/100\n",
            "602/602 - 1s - loss: 61712.4453\n",
            "Epoch 100/100\n",
            "602/602 - 1s - loss: 178.9923\n"
          ],
          "name": "stdout"
        },
        {
          "output_type": "execute_result",
          "data": {
            "text/plain": [
              "<keras.callbacks.History at 0x7fd915e9b810>"
            ]
          },
          "metadata": {
            "tags": []
          },
          "execution_count": 13
        }
      ]
    },
    {
      "cell_type": "code",
      "metadata": {
        "colab": {
          "base_uri": "https://localhost:8080/"
        },
        "id": "a6ZCjbB4UiZy",
        "outputId": "29c7a7e6-5978-49cc-f30a-a48b99af6aff"
      },
      "source": [
        "# Show MAE error\n",
        "yhat = model.predict(X_test)\n",
        "error = mean_absolute_error(y_test, yhat)\n",
        "print('MAE: %.3f' % error)"
      ],
      "execution_count": 14,
      "outputs": [
        {
          "output_type": "stream",
          "text": [
            "MAE: 0.661\n"
          ],
          "name": "stdout"
        }
      ]
    },
    {
      "cell_type": "code",
      "metadata": {
        "id": "LW0iEs4eUlzI"
      },
      "source": [
        "# Save Model\n",
        "model.save('nn.h5')"
      ],
      "execution_count": 15,
      "outputs": []
    },
    {
      "cell_type": "code",
      "metadata": {
        "colab": {
          "base_uri": "https://localhost:8080/"
        },
        "id": "TUKrLS2bVMSO",
        "outputId": "047af5cc-c38e-4abb-f84d-acdbefd282c5"
      },
      "source": [
        "print(y_test)"
      ],
      "execution_count": 16,
      "outputs": [
        {
          "output_type": "stream",
          "text": [
            "15157       3.63\n",
            "38107       1.25\n",
            "43753       1.00\n",
            "860         1.00\n",
            "12769       2.92\n",
            "          ...   \n",
            "45823       1.00\n",
            "54569    9384.00\n",
            "43219       5.00\n",
            "29532      18.60\n",
            "19359       3.90\n",
            "Name: fire_size, Length: 8244, dtype: float64\n"
          ],
          "name": "stdout"
        }
      ]
    },
    {
      "cell_type": "code",
      "metadata": {
        "colab": {
          "base_uri": "https://localhost:8080/"
        },
        "id": "diUS-LIEVWJF",
        "outputId": "d75ca5b8-5d58-4c7d-b267-fe6b838d9d3c"
      },
      "source": [
        "print(yhat)"
      ],
      "execution_count": 17,
      "outputs": [
        {
          "output_type": "stream",
          "text": [
            "[[ 3.4917088 ]\n",
            " [ 1.2986434 ]\n",
            " [ 0.95506483]\n",
            " ...\n",
            " [ 4.9185066 ]\n",
            " [18.584469  ]\n",
            " [ 3.6806114 ]]\n"
          ],
          "name": "stdout"
        }
      ]
    }
  ]
}